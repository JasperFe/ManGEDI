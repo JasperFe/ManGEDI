{
 "cells": [
  {
   "cell_type": "markdown",
   "metadata": {},
   "source": [
    "# Sentinel Zonal Stats through Google Earth Engine"
   ]
  },
  {
   "cell_type": "markdown",
   "metadata": {},
   "source": [
    "## A. Python start"
   ]
  },
  {
   "cell_type": "code",
   "execution_count": 1,
   "metadata": {},
   "outputs": [
    {
     "name": "stderr",
     "output_type": "stream",
     "text": [
      "C:\\ProgramData\\Anaconda3\\envs\\phd_01\\lib\\site-packages\\geopandas\\_compat.py:106: UserWarning: The Shapely GEOS version (3.9.1dev-CAPI-1.14.1) is incompatible with the GEOS version PyGEOS was compiled with (3.9.1-CAPI-1.14.2). Conversions between both will be slow.\n",
      "  warnings.warn(\n"
     ]
    }
   ],
   "source": [
    "#Inladen van de noodzakelijke packages\n",
    "import ee\n",
    "import geemap\n",
    "import geetools\n",
    "from ipygee import *\n",
    "import numpy as np\n",
    "import pandas as pd\n",
    "import geopandas as gp\n",
    "import folium\n",
    "import math\n",
    "import matplotlib as plt\n",
    "\n",
    "# File with custom created functions:\n",
    "from GEE_SEN import *"
   ]
  },
  {
   "cell_type": "code",
   "execution_count": 2,
   "metadata": {},
   "outputs": [
    {
     "data": {
      "text/html": [
       "<p>To authorize access needed by Earth Engine, open the following\n",
       "        URL in a web browser and follow the instructions:</p>\n",
       "        <p><a href=https://accounts.google.com/o/oauth2/auth?client_id=517222506229-vsmmajv00ul0bs7p89v5m89qs8eb9359.apps.googleusercontent.com&scope=https%3A%2F%2Fwww.googleapis.com%2Fauth%2Fearthengine+https%3A%2F%2Fwww.googleapis.com%2Fauth%2Fdevstorage.full_control&redirect_uri=urn%3Aietf%3Awg%3Aoauth%3A2.0%3Aoob&response_type=code&code_challenge=6cBu4A9Sx7IcTDKxkYW2yduxCKAY1O7g-Oe3ZGrIotw&code_challenge_method=S256>https://accounts.google.com/o/oauth2/auth?client_id=517222506229-vsmmajv00ul0bs7p89v5m89qs8eb9359.apps.googleusercontent.com&scope=https%3A%2F%2Fwww.googleapis.com%2Fauth%2Fearthengine+https%3A%2F%2Fwww.googleapis.com%2Fauth%2Fdevstorage.full_control&redirect_uri=urn%3Aietf%3Awg%3Aoauth%3A2.0%3Aoob&response_type=code&code_challenge=6cBu4A9Sx7IcTDKxkYW2yduxCKAY1O7g-Oe3ZGrIotw&code_challenge_method=S256</a></p>\n",
       "        <p>The authorization workflow will generate a code, which you\n",
       "        should paste in the box below</p>\n",
       "        "
      ],
      "text/plain": [
       "<IPython.core.display.HTML object>"
      ]
     },
     "metadata": {},
     "output_type": "display_data"
    },
    {
     "name": "stdin",
     "output_type": "stream",
     "text": [
      "Enter verification code:  4/1AX4XfWiLEA_nEPPOA-mlREE1PPARmQRmV9-QGtIsPIKqLrX1CmiGaCv5SLw\n"
     ]
    },
    {
     "name": "stdout",
     "output_type": "stream",
     "text": [
      "\n",
      "Successfully saved authorization token.\n"
     ]
    }
   ],
   "source": [
    "#Indien nodig: Authorizeren in Earth Engine\n",
    "ee.Authenticate()"
   ]
  },
  {
   "cell_type": "code",
   "execution_count": 3,
   "metadata": {},
   "outputs": [],
   "source": [
    "#Earth Engine initialiseren\n",
    "ee.Initialize()"
   ]
  },
  {
   "cell_type": "markdown",
   "metadata": {},
   "source": [
    "# A. GEDI data"
   ]
  },
  {
   "cell_type": "code",
   "execution_count": 4,
   "metadata": {
    "tags": []
   },
   "outputs": [],
   "source": [
    "#Load GEDI-shot data to pandas\n",
    "Gedi_2A = gp.read_file(r'F:\\Users\\jfeyen\\PhD\\Python\\04_extracted_GEDI\\gediDF_2A_Flanders_26092021_polygons\\gediDF_2A_Flanders_26092021_polygons.shp')\n",
    "Gedi_2B = gp.read_file(r'F:\\Users\\jfeyen\\PhD\\Python\\04_extracted_GEDI\\gediDF_2B_Flanders_26092021_polygons\\gediDF_2B_Flanders_26092021_polygons.shp')"
   ]
  },
  {
   "cell_type": "code",
   "execution_count": null,
   "metadata": {},
   "outputs": [],
   "source": [
    "# Make a random selection in GEDI data to limit the train/test size\n"
   ]
  },
  {
   "cell_type": "markdown",
   "metadata": {},
   "source": [
    "## B. Region of Interest: studiegebied definiëren"
   ]
  },
  {
   "cell_type": "code",
   "execution_count": 11,
   "metadata": {},
   "outputs": [],
   "source": [
    "ROI_file = r'F:\\Users\\jfeyen\\PhD\\Python\\01_Data_exploration\\Data\\VL_shape.zip'\n",
    "ROI= gp.read_file(ROI_file)\n",
    "BOS_file = r'F:\\Users\\jfeyen\\PhD\\DATA\\Vectordata\\Bos\\Bosreferentielaag\\BosreferentielaagVL.shp'\n",
    "BOS= gp.read_file(BOS_file).to_crs(epsg='31370')"
   ]
  },
  {
   "cell_type": "markdown",
   "metadata": {},
   "source": [
    "### C. Filtering of the GEDI SHOTS \n"
   ]
  },
  {
   "cell_type": "code",
   "execution_count": 8,
   "metadata": {},
   "outputs": [],
   "source": [
    "## Example: select MA-SEPT 2019\n",
    "START_DATE = '2019-03-15'\n",
    "END_DATE = '2019-10-15'\n",
    "outputfile2A = r'F:\\Users\\jfeyen\\PhD\\Python\\04_extracted_GEDI\\GEDI2A_15032019to15102019_BOS'\n",
    "outputfile2B = r'F:\\Users\\jfeyen\\PhD\\Python\\04_extracted_GEDI\\GEDI2B_15032019to15102019_BOS'"
   ]
  },
  {
   "cell_type": "code",
   "execution_count": 9,
   "metadata": {},
   "outputs": [],
   "source": [
    "def selectExportGEDIbyDate(Gedi,start_date,end_date,outputfile):\n",
    "    import datetime\n",
    "    def getDateTimeGEDI(fileLoc):\n",
    "        juliandate = fileLoc[11:16]\n",
    "        return datetime.datetime.strptime(juliandate, '%y%j')#.strftime(\"%Y-%m-%d\")\n",
    "    \n",
    "    Gedi['Date'] = Gedi['fileLoc'].apply(getDateTimeGEDI)\n",
    "    GEDI_sel= Gedi[((Gedi['Date']> START_DATE) & (Gedi['Date'] < END_DATE))]\n",
    "    GEDI_sel['Date']=GEDI_sel['Date'].astype(str)\n",
    "    \n",
    "    GEDI_sel.to_file(outputfile)\n",
    "    return print('Saved as ' + outputfile)"
   ]
  },
  {
   "cell_type": "code",
   "execution_count": 10,
   "metadata": {},
   "outputs": [
    {
     "ename": "TypeError",
     "evalue": "'mask' should be GeoDataFrame, GeoSeries or(Multi)Polygon, got <class 'ee.featurecollection.FeatureCollection'>",
     "output_type": "error",
     "traceback": [
      "\u001b[1;31m---------------------------------------------------------------------------\u001b[0m",
      "\u001b[1;31mTypeError\u001b[0m                                 Traceback (most recent call last)",
      "\u001b[1;32m<ipython-input-10-7a2583a4c4d6>\u001b[0m in \u001b[0;36m<module>\u001b[1;34m\u001b[0m\n\u001b[1;32m----> 1\u001b[1;33m \u001b[0mGedi_2A_bos\u001b[0m \u001b[1;33m=\u001b[0m \u001b[0mgp\u001b[0m\u001b[1;33m.\u001b[0m\u001b[0mclip\u001b[0m\u001b[1;33m(\u001b[0m\u001b[0mGedi_2A\u001b[0m\u001b[1;33m,\u001b[0m \u001b[0mBOS\u001b[0m\u001b[1;33m)\u001b[0m\u001b[1;33m\u001b[0m\u001b[1;33m\u001b[0m\u001b[0m\n\u001b[0m\u001b[0;32m      2\u001b[0m \u001b[0mGedi_2B_bos\u001b[0m \u001b[1;33m=\u001b[0m  \u001b[0mgp\u001b[0m\u001b[1;33m.\u001b[0m\u001b[0mclip\u001b[0m\u001b[1;33m(\u001b[0m\u001b[0mGedi_2B\u001b[0m\u001b[1;33m,\u001b[0m \u001b[0mBOS\u001b[0m\u001b[1;33m)\u001b[0m\u001b[1;33m\u001b[0m\u001b[1;33m\u001b[0m\u001b[0m\n",
      "\u001b[1;32mC:\\ProgramData\\Anaconda3\\envs\\phd_01\\lib\\site-packages\\geopandas\\tools\\clip.py\u001b[0m in \u001b[0;36mclip\u001b[1;34m(gdf, mask, keep_geom_type)\u001b[0m\n\u001b[0;32m    125\u001b[0m \u001b[1;33m\u001b[0m\u001b[0m\n\u001b[0;32m    126\u001b[0m     \u001b[1;32mif\u001b[0m \u001b[1;32mnot\u001b[0m \u001b[0misinstance\u001b[0m\u001b[1;33m(\u001b[0m\u001b[0mmask\u001b[0m\u001b[1;33m,\u001b[0m \u001b[1;33m(\u001b[0m\u001b[0mGeoDataFrame\u001b[0m\u001b[1;33m,\u001b[0m \u001b[0mGeoSeries\u001b[0m\u001b[1;33m,\u001b[0m \u001b[0mPolygon\u001b[0m\u001b[1;33m,\u001b[0m \u001b[0mMultiPolygon\u001b[0m\u001b[1;33m)\u001b[0m\u001b[1;33m)\u001b[0m\u001b[1;33m:\u001b[0m\u001b[1;33m\u001b[0m\u001b[1;33m\u001b[0m\u001b[0m\n\u001b[1;32m--> 127\u001b[1;33m         raise TypeError(\n\u001b[0m\u001b[0;32m    128\u001b[0m             \u001b[1;34m\"'mask' should be GeoDataFrame, GeoSeries or\"\u001b[0m\u001b[1;33m\u001b[0m\u001b[1;33m\u001b[0m\u001b[0m\n\u001b[0;32m    129\u001b[0m             \u001b[1;34m\"(Multi)Polygon, got {}\"\u001b[0m\u001b[1;33m.\u001b[0m\u001b[0mformat\u001b[0m\u001b[1;33m(\u001b[0m\u001b[0mtype\u001b[0m\u001b[1;33m(\u001b[0m\u001b[0mmask\u001b[0m\u001b[1;33m)\u001b[0m\u001b[1;33m)\u001b[0m\u001b[1;33m\u001b[0m\u001b[1;33m\u001b[0m\u001b[0m\n",
      "\u001b[1;31mTypeError\u001b[0m: 'mask' should be GeoDataFrame, GeoSeries or(Multi)Polygon, got <class 'ee.featurecollection.FeatureCollection'>"
     ]
    }
   ],
   "source": [
    "Gedi_2A_bos = gp.clip(Gedi_2A, BOS)\n",
    "Gedi_2B_bos =  gp.clip(Gedi_2B, BOS)"
   ]
  },
  {
   "cell_type": "code",
   "execution_count": 54,
   "metadata": {},
   "outputs": [
    {
     "name": "stderr",
     "output_type": "stream",
     "text": [
      "C:\\ProgramData\\Anaconda3\\envs\\phd_01\\lib\\site-packages\\geopandas\\geodataframe.py:1322: SettingWithCopyWarning: \n",
      "A value is trying to be set on a copy of a slice from a DataFrame.\n",
      "Try using .loc[row_indexer,col_indexer] = value instead\n",
      "\n",
      "See the caveats in the documentation: https://pandas.pydata.org/pandas-docs/stable/user_guide/indexing.html#returning-a-view-versus-a-copy\n",
      "  super(GeoDataFrame, self).__setitem__(key, value)\n"
     ]
    },
    {
     "name": "stdout",
     "output_type": "stream",
     "text": [
      "Saved as F:\\Users\\jfeyen\\PhD\\Python\\04_extracted_GEDI\\GEDI2A_15032019to15102019_BOS\n",
      "Saved as F:\\Users\\jfeyen\\PhD\\Python\\04_extracted_GEDI\\GEDI2B_15032019to15102019_BOS\n"
     ]
    }
   ],
   "source": [
    "selectExportGEDIbyDate(Gedi_2A, START_DATE,END_DATE, outputfile2A)\n",
    "selectExportGEDIbyDate(Gedi_2B, START_DATE,END_DATE, outputfile2B)"
   ]
  },
  {
   "cell_type": "code",
   "execution_count": 6,
   "metadata": {},
   "outputs": [],
   "source": [
    "Map = geemap.Map()\n",
    "Map.addLayer(BOS)\n",
    "Map.centerObject(ROI,9)"
   ]
  },
  {
   "cell_type": "markdown",
   "metadata": {},
   "source": [
    "# Earth Engine Code"
   ]
  },
  {
   "cell_type": "code",
   "execution_count": 13,
   "metadata": {},
   "outputs": [],
   "source": [
    "#Linkjes leggen naar ROI's in Earth Engine assets\n",
    "ROI = ee.FeatureCollection(\"users/jasperfeyen/UGENT/Vlaanderen_shape\")\n",
    "BOS = ee.FeatureCollection(\"users/jasperfeyen/UGENT/BosreferentielaagVL\")"
   ]
  },
  {
   "cell_type": "markdown",
   "metadata": {},
   "source": [
    "## CLOUD MASK FUNCTIONS"
   ]
  },
  {
   "cell_type": "code",
   "execution_count": 14,
   "metadata": {},
   "outputs": [],
   "source": [
    "# Functie aanmaken die S2_SR collectie koppelt aan de s2cloudless info\n",
    "def get_s2_sr_cld_col(aoi, start_date, end_date):\n",
    "    # Import and filter S2 SR.\n",
    "    s2_sr_col = (ee.ImageCollection('COPERNICUS/S2_SR')\n",
    "        .filterBounds(aoi)\n",
    "        .filterDate(start_date, end_date)\n",
    "        .filter(ee.Filter.lte('CLOUDY_PIXEL_PERCENTAGE', CLOUD_FILTER)))\n",
    "\n",
    "    # Import and filter s2cloudless.\n",
    "    s2_cloudless_col = (ee.ImageCollection('COPERNICUS/S2_CLOUD_PROBABILITY')\n",
    "        .filterBounds(aoi)\n",
    "        .filterDate(start_date, end_date))\n",
    "\n",
    "    # Join the filtered s2cloudless collection to the SR collection by the 'system:index' property.\n",
    "    return ee.ImageCollection(ee.Join.saveFirst('s2cloudless').apply(**{\n",
    "        'primary': s2_sr_col,\n",
    "        'secondary': s2_cloudless_col,\n",
    "        'condition': ee.Filter.equals(**{\n",
    "            'leftField': 'system:index',\n",
    "            'rightField': 'system:index'\n",
    "        })\n",
    "    }))\n"
   ]
  },
  {
   "cell_type": "code",
   "execution_count": 15,
   "metadata": {},
   "outputs": [],
   "source": [
    "def add_cloud_bands(img):\n",
    "    # Get s2cloudless image, subset the probability band.\n",
    "    cld_prb = ee.Image(img.get('s2cloudless')).select('probability')\n",
    "\n",
    "    # Condition s2cloudless by the probability threshold value.\n",
    "    is_cloud = cld_prb.gt(CLD_PRB_THRESH).rename('clouds')\n",
    "\n",
    "    # Add the cloud probability layer and cloud mask as image bands.\n",
    "    return img.addBands(ee.Image([cld_prb, is_cloud]))"
   ]
  },
  {
   "cell_type": "code",
   "execution_count": 16,
   "metadata": {},
   "outputs": [],
   "source": [
    "def add_shadow_bands(img):\n",
    "    # Identify water pixels from the SCL band.\n",
    "    not_water = img.select('SCL').neq(6)\n",
    "\n",
    "    # Identify dark NIR pixels that are not water (potential cloud shadow pixels).\n",
    "    SR_BAND_SCALE = 1e4\n",
    "    dark_pixels = img.select('B8').lt(NIR_DRK_THRESH*SR_BAND_SCALE).multiply(not_water).rename('dark_pixels')\n",
    "\n",
    "    # Determine the direction to project cloud shadow from clouds (assumes UTM projection).\n",
    "    shadow_azimuth = ee.Number(90).subtract(ee.Number(img.get('MEAN_SOLAR_AZIMUTH_ANGLE')));\n",
    "\n",
    "    # Project shadows from clouds for the distance specified by the CLD_PRJ_DIST input.\n",
    "    cld_proj = (img.select('clouds').directionalDistanceTransform(shadow_azimuth, CLD_PRJ_DIST*10)\n",
    "        .reproject(**{'crs': img.select(0).projection(), 'scale': 100})\n",
    "        .select('distance')\n",
    "        .mask()\n",
    "        .rename('cloud_transform'))\n",
    "\n",
    "    # Identify the intersection of dark pixels with cloud shadow projection.\n",
    "    shadows = cld_proj.multiply(dark_pixels).rename('shadows')\n",
    "\n",
    "    # Add dark pixels, cloud projection, and identified shadows as image bands.\n",
    "    return img.addBands(ee.Image([dark_pixels, cld_proj, shadows]))"
   ]
  },
  {
   "cell_type": "code",
   "execution_count": 17,
   "metadata": {},
   "outputs": [],
   "source": [
    "def add_cld_shdw_mask(img):\n",
    "    # Add cloud component bands.\n",
    "    img_cloud = add_cloud_bands(img)\n",
    "\n",
    "    # Add cloud shadow component bands.\n",
    "    img_cloud_shadow = add_shadow_bands(img_cloud)\n",
    "\n",
    "    # Combine cloud and shadow mask, set cloud and shadow as value 1, else 0.\n",
    "    is_cld_shdw = img_cloud_shadow.select('clouds').add(img_cloud_shadow.select('shadows')).gt(0)\n",
    "\n",
    "    # Remove small cloud-shadow patches and dilate remaining pixels by BUFFER input.\n",
    "    # 20 m scale is for speed, and assumes clouds don't require 10 m precision.\n",
    "    is_cld_shdw = (is_cld_shdw.focal_min(2).focal_max(BUFFER*2/20)\n",
    "        .reproject(**{'crs': img.select([0]).projection(), 'scale': 20})\n",
    "        .rename('cloudmask'))\n",
    "\n",
    "    # Add the final cloud-shadow mask to the image.\n",
    "    return img.addBands(is_cld_shdw)"
   ]
  },
  {
   "cell_type": "code",
   "execution_count": 18,
   "metadata": {},
   "outputs": [],
   "source": [
    "def apply_cld_shdw_mask(img):\n",
    "    # Subset the cloudmask band and invert it so clouds/shadow are 0, else 1.\n",
    "    not_cld_shdw = img.select('cloudmask').Not()\n",
    "\n",
    "    # Subset reflectance bands and update their masks, return the result.\n",
    "    return img.select('B.*').updateMask(not_cld_shdw)"
   ]
  },
  {
   "cell_type": "markdown",
   "metadata": {},
   "source": [
    "## C. Function to Create Sentinel image"
   ]
  },
  {
   "cell_type": "code",
   "execution_count": 19,
   "metadata": {},
   "outputs": [],
   "source": [
    "def createSentinelImage(ROI, S2_bands,TextureMetrics, START_DATE, END_DATE, window_size):\n",
    "    # Step 1: create Cloud Masked s2 collection\n",
    "    s2_sr_cld_col = get_s2_sr_cld_col(ROI, START_DATE, END_DATE)\n",
    "    S2_2019_coll = s2_sr_cld_col.map(add_cld_shdw_mask).map(apply_cld_shdw_mask)\n",
    "    \n",
    "    #Step2: Add Spectral Indices\n",
    "    S2_2019 = S2_2019_coll.map(addIndices).select(bands).median().clip(ROI)\n",
    "    \n",
    "    #Step3: Add S2 Textural Indices\n",
    "    S2_2019 = addS2Texturebands(S2_2019, window_size,TextureMetrics)\n",
    "    \n",
    "    #Step4: Add S1 (Ascending)\n",
    "    S1_asc = refinedLee(add_S1_asc(createS1coll(ROI), START_DATE, END_DATE))\n",
    "    \n",
    "    #Step 5: add Texture to S1\n",
    "    S1 = addS1Texture(S1_asc, TextureMetrics, window_size)\n",
    "    \n",
    "    #Step 6: Combine S1/S2\n",
    "    S1S2 = S2_2019.addBands(S1).clip(ROI)\n",
    "\n",
    "    return S1S2\n",
    "    \n",
    "    "
   ]
  },
  {
   "cell_type": "code",
   "execution_count": 20,
   "metadata": {},
   "outputs": [],
   "source": [
    "ROI = ee.FeatureCollection(\"users/jasperfeyen/UGENT/Vlaanderen_shape\")\n",
    "BOS = ee.FeatureCollection(\"users/jasperfeyen/UGENT/BosreferentielaagVL\")"
   ]
  },
  {
   "cell_type": "code",
   "execution_count": 21,
   "metadata": {},
   "outputs": [],
   "source": [
    "AOI = ROI.geometry();\n",
    "#TEST: zomer\n",
    "CLOUD_FILTER = 60\n",
    "CLD_PRB_THRESH = 50\n",
    "NIR_DRK_THRESH = 0.15\n",
    "CLD_PRJ_DIST = 2\n",
    "BUFFER = 100"
   ]
  },
  {
   "cell_type": "code",
   "execution_count": 22,
   "metadata": {},
   "outputs": [],
   "source": [
    "# Spectral features\n",
    "S2_bands = ['B2','B3', 'B4', 'B5', 'B6', 'B7','B8','B8A','B11','B12']\n",
    "# Vegetation Indices\n",
    "VI = ['NDVI','MNDWI','NDWI','IRECI','SAVI','S2REP']\n",
    "\n",
    "bands = S2_bands + VI\n",
    "\n",
    "# Texture: https://developers.google.com/earth-engine/apidocs/ee-image-glcmtexture\n",
    "TextureMetrics = ['asm','contrast','corr','var','savg','idm','diss','ent']"
   ]
  },
  {
   "cell_type": "code",
   "execution_count": 23,
   "metadata": {},
   "outputs": [],
   "source": [
    "#Start by defining window size: experiment with 3x3 - 5x5 - 7x7 - 9x9\n",
    "window_size = 5"
   ]
  },
  {
   "cell_type": "code",
   "execution_count": 24,
   "metadata": {},
   "outputs": [],
   "source": [
    "S1S2_2019 = createSentinelImage(ROI, bands,TextureMetrics, START_DATE, END_DATE, window_size)"
   ]
  },
  {
   "cell_type": "code",
   "execution_count": 25,
   "metadata": {},
   "outputs": [],
   "source": [
    "import geopandas as gp\n",
    "from shapely.geometry import Point\n",
    "from shapely.wkt import loads"
   ]
  },
  {
   "cell_type": "markdown",
   "metadata": {},
   "source": [
    "## NEXT STEP: UPLOAD THE DATA TO EARTH ENGINE (NEEDS AUTOMATISATION: TO DO)\n"
   ]
  },
  {
   "cell_type": "markdown",
   "metadata": {},
   "source": [
    "ReduceRegions neemt veel tijd in beslag => mapping ReduceRegion zou beter zijn\n",
    "https://gis.stackexchange.com/questions/346052/exporting-dataframe-used-reduceregion-to-sample-an-image-in-google-earth-engin"
   ]
  },
  {
   "cell_type": "code",
   "execution_count": 38,
   "metadata": {},
   "outputs": [],
   "source": [
    "#Define the table in GEE\n",
    "#START_DATE = '2019-10-15'\n",
    "#END_DATE = '2020-03-15'\n",
    "GEDI_2B= ee.FeatureCollection('users/jasperfeyen/GEE_EXTRACTS/GEDI2A_15032019to15102019_BOS')"
   ]
  },
  {
   "cell_type": "code",
   "execution_count": 27,
   "metadata": {},
   "outputs": [],
   "source": [
    "# Sentinel collections\n",
    "S1S2_SUMMER2019 = createSentinelImage(ROI.geometry(), bands,TextureMetrics, START_DATE, END_DATE, window_size)"
   ]
  },
  {
   "cell_type": "code",
   "execution_count": 28,
   "metadata": {
    "tags": []
   },
   "outputs": [],
   "source": [
    "def SampleS1S2_2_feature(S1S2):\n",
    "    def wrap(feature):\n",
    "        return feature.setMulti(S1S2.clip(ROI).float().reduceRegion(\n",
    "            reducer = ee.Reducer.mean(),\n",
    "            geometry= feature.geometry(),\n",
    "            scale = 10,\n",
    "            bestEffort = True,\n",
    "            tileScale = 16\n",
    "  ))\n",
    "    return wrap\n"
   ]
  },
  {
   "cell_type": "markdown",
   "metadata": {},
   "source": [
    "### Take a random sample of the shots -> Limiting processing time"
   ]
  },
  {
   "cell_type": "code",
   "execution_count": 53,
   "metadata": {},
   "outputs": [],
   "source": [
    "#Make a random Column\n",
    "GEDI_2B_random = GEDI_2B.randomColumn()\n",
    "GEDI_2B_selected= GEDI_2B_random.filter(ee.Filter.gt('random',0.95));"
   ]
  },
  {
   "cell_type": "code",
   "execution_count": 54,
   "metadata": {},
   "outputs": [
    {
     "name": "stdout",
     "output_type": "stream",
     "text": [
      "6175 selected from  120619\n"
     ]
    }
   ],
   "source": [
    "print(GEDI_2B_selected.size().getInfo(), 'selected from ', GEDI_2B.size().getInfo())"
   ]
  },
  {
   "cell_type": "code",
   "execution_count": 55,
   "metadata": {
    "tags": []
   },
   "outputs": [],
   "source": [
    "GEDI_S1S2 = GEDI_2B_selected.map(SampleS1S2_2_feature(S1S2_SUMMER2019));"
   ]
  },
  {
   "cell_type": "code",
   "execution_count": 56,
   "metadata": {
    "collapsed": true,
    "jupyter": {
     "outputs_hidden": true
    },
    "tags": []
   },
   "outputs": [
    {
     "data": {
      "text/plain": [
       "['B2',\n",
       " 'B3',\n",
       " 'B4',\n",
       " 'B5',\n",
       " 'B6',\n",
       " 'B7',\n",
       " 'B8',\n",
       " 'B8A',\n",
       " 'B11',\n",
       " 'B12',\n",
       " 'NDVI',\n",
       " 'MNDWI',\n",
       " 'NDWI',\n",
       " 'IRECI',\n",
       " 'SAVI',\n",
       " 'S2REP',\n",
       " 'B2_asm',\n",
       " 'B3_asm',\n",
       " 'B4_asm',\n",
       " 'B5_asm',\n",
       " 'B6_asm',\n",
       " 'B7_asm',\n",
       " 'B8_asm',\n",
       " 'B8A_asm',\n",
       " 'B11_asm',\n",
       " 'B12_asm',\n",
       " 'NDVI_asm',\n",
       " 'MNDWI_asm',\n",
       " 'NDWI_asm',\n",
       " 'IRECI_asm',\n",
       " 'SAVI_asm',\n",
       " 'S2REP_asm',\n",
       " 'B2_contrast',\n",
       " 'B3_contrast',\n",
       " 'B4_contrast',\n",
       " 'B5_contrast',\n",
       " 'B6_contrast',\n",
       " 'B7_contrast',\n",
       " 'B8_contrast',\n",
       " 'B8A_contrast',\n",
       " 'B11_contrast',\n",
       " 'B12_contrast',\n",
       " 'NDVI_contrast',\n",
       " 'MNDWI_contrast',\n",
       " 'NDWI_contrast',\n",
       " 'IRECI_contrast',\n",
       " 'SAVI_contrast',\n",
       " 'S2REP_contrast',\n",
       " 'B2_corr',\n",
       " 'B3_corr',\n",
       " 'B4_corr',\n",
       " 'B5_corr',\n",
       " 'B6_corr',\n",
       " 'B7_corr',\n",
       " 'B8_corr',\n",
       " 'B8A_corr',\n",
       " 'B11_corr',\n",
       " 'B12_corr',\n",
       " 'NDVI_corr',\n",
       " 'MNDWI_corr',\n",
       " 'NDWI_corr',\n",
       " 'IRECI_corr',\n",
       " 'SAVI_corr',\n",
       " 'S2REP_corr',\n",
       " 'B2_var',\n",
       " 'B3_var',\n",
       " 'B4_var',\n",
       " 'B5_var',\n",
       " 'B6_var',\n",
       " 'B7_var',\n",
       " 'B8_var',\n",
       " 'B8A_var',\n",
       " 'B11_var',\n",
       " 'B12_var',\n",
       " 'NDVI_var',\n",
       " 'MNDWI_var',\n",
       " 'NDWI_var',\n",
       " 'IRECI_var',\n",
       " 'SAVI_var',\n",
       " 'S2REP_var',\n",
       " 'B2_savg',\n",
       " 'B3_savg',\n",
       " 'B4_savg',\n",
       " 'B5_savg',\n",
       " 'B6_savg',\n",
       " 'B7_savg',\n",
       " 'B8_savg',\n",
       " 'B8A_savg',\n",
       " 'B11_savg',\n",
       " 'B12_savg',\n",
       " 'NDVI_savg',\n",
       " 'MNDWI_savg',\n",
       " 'NDWI_savg',\n",
       " 'IRECI_savg',\n",
       " 'SAVI_savg',\n",
       " 'S2REP_savg',\n",
       " 'B2_idm',\n",
       " 'B3_idm',\n",
       " 'B4_idm',\n",
       " 'B5_idm',\n",
       " 'B6_idm',\n",
       " 'B7_idm',\n",
       " 'B8_idm',\n",
       " 'B8A_idm',\n",
       " 'B11_idm',\n",
       " 'B12_idm',\n",
       " 'NDVI_idm',\n",
       " 'MNDWI_idm',\n",
       " 'NDWI_idm',\n",
       " 'IRECI_idm',\n",
       " 'SAVI_idm',\n",
       " 'S2REP_idm',\n",
       " 'B2_diss',\n",
       " 'B3_diss',\n",
       " 'B4_diss',\n",
       " 'B5_diss',\n",
       " 'B6_diss',\n",
       " 'B7_diss',\n",
       " 'B8_diss',\n",
       " 'B8A_diss',\n",
       " 'B11_diss',\n",
       " 'B12_diss',\n",
       " 'NDVI_diss',\n",
       " 'MNDWI_diss',\n",
       " 'NDWI_diss',\n",
       " 'IRECI_diss',\n",
       " 'SAVI_diss',\n",
       " 'S2REP_diss',\n",
       " 'B2_ent',\n",
       " 'B3_ent',\n",
       " 'B4_ent',\n",
       " 'B5_ent',\n",
       " 'B6_ent',\n",
       " 'B7_ent',\n",
       " 'B8_ent',\n",
       " 'B8A_ent',\n",
       " 'B11_ent',\n",
       " 'B12_ent',\n",
       " 'NDVI_ent',\n",
       " 'MNDWI_ent',\n",
       " 'NDWI_ent',\n",
       " 'IRECI_ent',\n",
       " 'SAVI_ent',\n",
       " 'S2REP_ent',\n",
       " 'VV',\n",
       " 'VH',\n",
       " 'VV_asm',\n",
       " 'VH_asm',\n",
       " 'VV_contrast',\n",
       " 'VH_contrast',\n",
       " 'VV_corr',\n",
       " 'VH_corr',\n",
       " 'VV_var',\n",
       " 'VH_var',\n",
       " 'VV_savg',\n",
       " 'VH_savg',\n",
       " 'VV_idm',\n",
       " 'VH_idm',\n",
       " 'VV_diss',\n",
       " 'VH_diss',\n",
       " 'VV_ent',\n",
       " 'VH_ent',\n",
       " 'random',\n",
       " 'Sensitivit',\n",
       " 'rh_100',\n",
       " 'L2B Qualit',\n",
       " 'Shot Numbe',\n",
       " 'Beam',\n",
       " 'rh_20',\n",
       " 'rh_85',\n",
       " 'Elevation',\n",
       " 'rh_0',\n",
       " 'rh_40',\n",
       " 'rh_60',\n",
       " 'rh_80',\n",
       " 'rh_5',\n",
       " 'rh_25',\n",
       " 'rh_45',\n",
       " 'Solar_elev',\n",
       " 'rh_65',\n",
       " 'Degrade Fl',\n",
       " 'index',\n",
       " 'fileLoc',\n",
       " 'Date',\n",
       " 'rh_75',\n",
       " 'rh_30',\n",
       " 'rh_95',\n",
       " 'rh_50',\n",
       " 'Canopy Ele',\n",
       " 'rh_70',\n",
       " 'rh_90',\n",
       " 'rh_15',\n",
       " 'Tandem-X D',\n",
       " 'rh_35',\n",
       " 'rh_55',\n",
       " 'system:index',\n",
       " 'rh_10']"
      ]
     },
     "execution_count": 56,
     "metadata": {},
     "output_type": "execute_result"
    }
   ],
   "source": [
    "GEDI_S1S2.first().propertyNames().getInfo()"
   ]
  },
  {
   "cell_type": "code",
   "execution_count": 57,
   "metadata": {},
   "outputs": [],
   "source": [
    "task = ee.batch.Export.table.toDrive(\n",
    "    collection = GEDI_S1S2,\n",
    "    folder= 'GEE_EXPORTS',\n",
    "    fileNamePrefix = ' GEDIS1S2_15032019to15102019_BOS_18112021',\n",
    "    description='GEDIS1S2_15032019to15102019_BOS_18112021',\n",
    "    fileFormat = 'SHP'\n",
    ")"
   ]
  },
  {
   "cell_type": "code",
   "execution_count": 58,
   "metadata": {},
   "outputs": [],
   "source": [
    "task.start()"
   ]
  },
  {
   "cell_type": "code",
   "execution_count": 87,
   "metadata": {
    "tags": []
   },
   "outputs": [
    {
     "data": {
      "text/plain": [
       "'RUNNING'"
      ]
     },
     "execution_count": 87,
     "metadata": {},
     "output_type": "execute_result"
    }
   ],
   "source": [
    "task.status()[\"state\"]"
   ]
  },
  {
   "cell_type": "markdown",
   "metadata": {},
   "source": [
    "### Level 2B"
   ]
  },
  {
   "cell_type": "code",
   "execution_count": 215,
   "metadata": {},
   "outputs": [],
   "source": [
    "GediDF = ee.FeatureCollection('users/jasperfeyen/GEDI_EXTRACTS/GEDI_2B_15032019to15092019')"
   ]
  },
  {
   "cell_type": "code",
   "execution_count": 216,
   "metadata": {
    "tags": []
   },
   "outputs": [
    {
     "data": {
      "text/plain": [
       "['Sensitivit',\n",
       " 'Plant Area',\n",
       " 'Degrade Fl',\n",
       " 'Canopy Hei',\n",
       " 'index',\n",
       " 'L2B Qualit',\n",
       " 'Foliage He',\n",
       " 'Shot Numbe',\n",
       " 'fileLoc',\n",
       " 'Date',\n",
       " 'Beam',\n",
       " 'cover',\n",
       " 'Elevation',\n",
       " 'Pgap_theta',\n",
       " 'Canopy Ele',\n",
       " 'PAI',\n",
       " 'Tandem-X D',\n",
       " 'system:index',\n",
       " 'Solar_elev']"
      ]
     },
     "execution_count": 216,
     "metadata": {},
     "output_type": "execute_result"
    }
   ],
   "source": [
    "GediDF.first().propertyNames().getInfo()"
   ]
  },
  {
   "cell_type": "code",
   "execution_count": 72,
   "metadata": {},
   "outputs": [],
   "source": [
    "# Start Sampling over collection\n",
    "# Bands for training\n",
    "GEDI_S1S2 = S1S2_2019.clip(ROI).float().reduceRegions(\n",
    "    reducer =  ee.Reducer.mean(),\n",
    "    collection = GediDF,\n",
    "    scale = 10, #Sentinel-2 maximum scale\n",
    "    tileScale = 16)"
   ]
  },
  {
   "cell_type": "markdown",
   "metadata": {},
   "source": [
    "ReduceRegions neemt veel tijd in beslag => mapping ReduceRegion zou beter zijn\n",
    "https://gis.stackexchange.com/questions/346052/exporting-dataframe-used-reduceregion-to-sample-an-image-in-google-earth-engin"
   ]
  },
  {
   "cell_type": "code",
   "execution_count": 73,
   "metadata": {},
   "outputs": [],
   "source": [
    "GEDI_S1S2 = S1S2_2019.clip(ROI).float().reduceRegion(\n",
    "    reducer =  ee.Reducer.mean(),\n",
    "    geometry = GediDF.first().geometry(),\n",
    "    scale = 10, #Sentinel-2 maximum scale,\n",
    "    bestEffort = True,\n",
    "    tileScale = 16)\n",
    "test=GediDF.first().setMulti(GEDI_S1S2)"
   ]
  },
  {
   "cell_type": "code",
   "execution_count": 74,
   "metadata": {},
   "outputs": [],
   "source": [
    "GEDI_S1S2 = GediDF.first().set(S1S2_2019.clip(ROI).float().reduceRegion(\n",
    "    reducer= ee.Reducer.mean(),\n",
    "    geometry= GediDF.first().geometry(),\n",
    "    scale=10\n",
    "  ))"
   ]
  },
  {
   "cell_type": "code",
   "execution_count": 75,
   "metadata": {
    "tags": []
   },
   "outputs": [],
   "source": [
    "def SampleS1S2_2_feature(feature):\n",
    "    return feature.setMulti(S1S2_2019.clip(ROI).float().reduceRegion(\n",
    "        reducer = ee.Reducer.mean(),\n",
    "        geometry= feature.geometry(),\n",
    "        scale = 10\n",
    "  ))"
   ]
  },
  {
   "cell_type": "code",
   "execution_count": 76,
   "metadata": {
    "tags": []
   },
   "outputs": [],
   "source": [
    "GEDI_S1S2 = GediDF.map(SampleS1S2_2_feature);"
   ]
  },
  {
   "cell_type": "code",
   "execution_count": 77,
   "metadata": {
    "collapsed": true,
    "jupyter": {
     "outputs_hidden": true
    },
    "tags": []
   },
   "outputs": [
    {
     "data": {
      "text/plain": [
       "['B2',\n",
       " 'B3',\n",
       " 'B4',\n",
       " 'B5',\n",
       " 'B6',\n",
       " 'B7',\n",
       " 'B8',\n",
       " 'B8A',\n",
       " 'B11',\n",
       " 'B12',\n",
       " 'NDVI',\n",
       " 'MNDWI',\n",
       " 'NDWI',\n",
       " 'IRECI',\n",
       " 'SAVI',\n",
       " 'S2REP',\n",
       " 'B2_asm',\n",
       " 'B3_asm',\n",
       " 'B4_asm',\n",
       " 'B5_asm',\n",
       " 'B6_asm',\n",
       " 'B7_asm',\n",
       " 'B8_asm',\n",
       " 'B8A_asm',\n",
       " 'B11_asm',\n",
       " 'B12_asm',\n",
       " 'NDVI_asm',\n",
       " 'MNDWI_asm',\n",
       " 'NDWI_asm',\n",
       " 'IRECI_asm',\n",
       " 'SAVI_asm',\n",
       " 'S2REP_asm',\n",
       " 'B2_contrast',\n",
       " 'B3_contrast',\n",
       " 'B4_contrast',\n",
       " 'B5_contrast',\n",
       " 'B6_contrast',\n",
       " 'B7_contrast',\n",
       " 'B8_contrast',\n",
       " 'B8A_contrast',\n",
       " 'B11_contrast',\n",
       " 'B12_contrast',\n",
       " 'NDVI_contrast',\n",
       " 'MNDWI_contrast',\n",
       " 'NDWI_contrast',\n",
       " 'IRECI_contrast',\n",
       " 'SAVI_contrast',\n",
       " 'S2REP_contrast',\n",
       " 'B2_corr',\n",
       " 'B3_corr',\n",
       " 'B4_corr',\n",
       " 'B5_corr',\n",
       " 'B6_corr',\n",
       " 'B7_corr',\n",
       " 'B8_corr',\n",
       " 'B8A_corr',\n",
       " 'B11_corr',\n",
       " 'B12_corr',\n",
       " 'NDVI_corr',\n",
       " 'MNDWI_corr',\n",
       " 'NDWI_corr',\n",
       " 'IRECI_corr',\n",
       " 'SAVI_corr',\n",
       " 'S2REP_corr',\n",
       " 'B2_var',\n",
       " 'B3_var',\n",
       " 'B4_var',\n",
       " 'B5_var',\n",
       " 'B6_var',\n",
       " 'B7_var',\n",
       " 'B8_var',\n",
       " 'B8A_var',\n",
       " 'B11_var',\n",
       " 'B12_var',\n",
       " 'NDVI_var',\n",
       " 'MNDWI_var',\n",
       " 'NDWI_var',\n",
       " 'IRECI_var',\n",
       " 'SAVI_var',\n",
       " 'S2REP_var',\n",
       " 'B2_savg',\n",
       " 'B3_savg',\n",
       " 'B4_savg',\n",
       " 'B5_savg',\n",
       " 'B6_savg',\n",
       " 'B7_savg',\n",
       " 'B8_savg',\n",
       " 'B8A_savg',\n",
       " 'B11_savg',\n",
       " 'B12_savg',\n",
       " 'NDVI_savg',\n",
       " 'MNDWI_savg',\n",
       " 'NDWI_savg',\n",
       " 'IRECI_savg',\n",
       " 'SAVI_savg',\n",
       " 'S2REP_savg',\n",
       " 'B2_idm',\n",
       " 'B3_idm',\n",
       " 'B4_idm',\n",
       " 'B5_idm',\n",
       " 'B6_idm',\n",
       " 'B7_idm',\n",
       " 'B8_idm',\n",
       " 'B8A_idm',\n",
       " 'B11_idm',\n",
       " 'B12_idm',\n",
       " 'NDVI_idm',\n",
       " 'MNDWI_idm',\n",
       " 'NDWI_idm',\n",
       " 'IRECI_idm',\n",
       " 'SAVI_idm',\n",
       " 'S2REP_idm',\n",
       " 'B2_diss',\n",
       " 'B3_diss',\n",
       " 'B4_diss',\n",
       " 'B5_diss',\n",
       " 'B6_diss',\n",
       " 'B7_diss',\n",
       " 'B8_diss',\n",
       " 'B8A_diss',\n",
       " 'B11_diss',\n",
       " 'B12_diss',\n",
       " 'NDVI_diss',\n",
       " 'MNDWI_diss',\n",
       " 'NDWI_diss',\n",
       " 'IRECI_diss',\n",
       " 'SAVI_diss',\n",
       " 'S2REP_diss',\n",
       " 'B2_ent',\n",
       " 'B3_ent',\n",
       " 'B4_ent',\n",
       " 'B5_ent',\n",
       " 'B6_ent',\n",
       " 'B7_ent',\n",
       " 'B8_ent',\n",
       " 'B8A_ent',\n",
       " 'B11_ent',\n",
       " 'B12_ent',\n",
       " 'NDVI_ent',\n",
       " 'MNDWI_ent',\n",
       " 'NDWI_ent',\n",
       " 'IRECI_ent',\n",
       " 'SAVI_ent',\n",
       " 'S2REP_ent',\n",
       " 'VV_asm',\n",
       " 'VH_asm',\n",
       " 'VV_contrast',\n",
       " 'VH_contrast',\n",
       " 'VV_corr',\n",
       " 'VH_corr',\n",
       " 'VV_var',\n",
       " 'VH_var',\n",
       " 'VV_savg',\n",
       " 'VH_savg',\n",
       " 'VV_idm',\n",
       " 'VH_idm',\n",
       " 'VV_diss',\n",
       " 'VH_diss',\n",
       " 'VV_ent',\n",
       " 'VH_ent',\n",
       " 'VV',\n",
       " 'VH',\n",
       " 'Sensitivit',\n",
       " 'Plant Area',\n",
       " 'Degrade Fl',\n",
       " 'Canopy Hei',\n",
       " 'index',\n",
       " 'L2B Qualit',\n",
       " 'Foliage He',\n",
       " 'Shot Numbe',\n",
       " 'fileLoc',\n",
       " 'Beam',\n",
       " 'cover',\n",
       " 'Elevation',\n",
       " 'Pgap_theta',\n",
       " 'Canopy Ele',\n",
       " 'PAI',\n",
       " 'Tandem-X D',\n",
       " 'system:index',\n",
       " 'Solar_elev']"
      ]
     },
     "execution_count": 77,
     "metadata": {},
     "output_type": "execute_result"
    }
   ],
   "source": [
    "GEDI_S1S2.first().propertyNames().getInfo()"
   ]
  },
  {
   "cell_type": "code",
   "execution_count": 78,
   "metadata": {},
   "outputs": [],
   "source": [
    "task = ee.batch.Export.table.toDrive(\n",
    "    collection = GEDI_S1S2,\n",
    "    folder= 'GEE_EXPORTS',\n",
    "    fileNamePrefix = 'GEDI_2B_S1S2_WINTER_5X5',\n",
    "    description='GEDI_S1S2_Flanders_13092021',\n",
    ")"
   ]
  },
  {
   "cell_type": "code",
   "execution_count": 79,
   "metadata": {},
   "outputs": [],
   "source": [
    "task.start()"
   ]
  },
  {
   "cell_type": "code",
   "execution_count": 62,
   "metadata": {},
   "outputs": [
    {
     "data": {
      "text/plain": [
       "{'state': 'RUNNING',\n",
       " 'description': 'GEDI_S1S2_Flanders_13092021',\n",
       " 'creation_timestamp_ms': 1632664462889,\n",
       " 'update_timestamp_ms': 1632838085785,\n",
       " 'start_timestamp_ms': 1632701435400,\n",
       " 'task_type': 'EXPORT_FEATURES',\n",
       " 'attempt': 2,\n",
       " 'id': 'Z5O3JIV6WCEI2WR4AHDR2MYZ',\n",
       " 'name': 'projects/earthengine-legacy/operations/Z5O3JIV6WCEI2WR4AHDR2MYZ'}"
      ]
     },
     "execution_count": 62,
     "metadata": {},
     "output_type": "execute_result"
    }
   ],
   "source": [
    "task.status()"
   ]
  },
  {
   "cell_type": "markdown",
   "metadata": {},
   "source": [
    "## HERE: try to find a way to automatically upload tables to GEE"
   ]
  },
  {
   "cell_type": "code",
   "execution_count": 36,
   "metadata": {
    "collapsed": true,
    "jupyter": {
     "outputs_hidden": true
    },
    "tags": []
   },
   "outputs": [
    {
     "ename": "MemoryError",
     "evalue": "",
     "output_type": "error",
     "traceback": [
      "\u001b[1;31m---------------------------------------------------------------------------\u001b[0m",
      "\u001b[1;31mMemoryError\u001b[0m                               Traceback (most recent call last)",
      "\u001b[1;32m<ipython-input-36-3fa8920121f5>\u001b[0m in \u001b[0;36m<module>\u001b[1;34m\u001b[0m\n\u001b[0;32m     19\u001b[0m }\n\u001b[0;32m     20\u001b[0m \u001b[0mtask\u001b[0m \u001b[1;33m=\u001b[0m \u001b[0mee\u001b[0m\u001b[1;33m.\u001b[0m\u001b[0mbatch\u001b[0m\u001b[1;33m.\u001b[0m\u001b[0mExport\u001b[0m\u001b[1;33m.\u001b[0m\u001b[0mtable\u001b[0m\u001b[1;33m.\u001b[0m\u001b[0mtoAsset\u001b[0m\u001b[1;33m(\u001b[0m\u001b[1;33m**\u001b[0m\u001b[0mtask_config\u001b[0m\u001b[1;33m)\u001b[0m\u001b[1;33m\u001b[0m\u001b[1;33m\u001b[0m\u001b[0m\n\u001b[1;32m---> 21\u001b[1;33m \u001b[0mtask\u001b[0m\u001b[1;33m.\u001b[0m\u001b[0mstart\u001b[0m\u001b[1;33m(\u001b[0m\u001b[1;33m)\u001b[0m\u001b[1;33m\u001b[0m\u001b[1;33m\u001b[0m\u001b[0m\n\u001b[0m",
      "\u001b[1;32mC:\\ProgramData\\Anaconda3\\envs\\phd_01\\lib\\site-packages\\ee\\batch.py\u001b[0m in \u001b[0;36mstart\u001b[1;34m(self)\u001b[0m\n\u001b[0;32m     85\u001b[0m       \u001b[0mresult\u001b[0m \u001b[1;33m=\u001b[0m \u001b[0mdata\u001b[0m\u001b[1;33m.\u001b[0m\u001b[0mexportMap\u001b[0m\u001b[1;33m(\u001b[0m\u001b[0mself\u001b[0m\u001b[1;33m.\u001b[0m\u001b[0m_request_id\u001b[0m\u001b[1;33m,\u001b[0m \u001b[0mself\u001b[0m\u001b[1;33m.\u001b[0m\u001b[0mconfig\u001b[0m\u001b[1;33m)\u001b[0m\u001b[1;33m\u001b[0m\u001b[1;33m\u001b[0m\u001b[0m\n\u001b[0;32m     86\u001b[0m     \u001b[1;32melif\u001b[0m \u001b[0mself\u001b[0m\u001b[1;33m.\u001b[0m\u001b[0mtask_type\u001b[0m \u001b[1;33m==\u001b[0m \u001b[0mTask\u001b[0m\u001b[1;33m.\u001b[0m\u001b[0mType\u001b[0m\u001b[1;33m.\u001b[0m\u001b[0mEXPORT_TABLE\u001b[0m\u001b[1;33m:\u001b[0m\u001b[1;33m\u001b[0m\u001b[1;33m\u001b[0m\u001b[0m\n\u001b[1;32m---> 87\u001b[1;33m       \u001b[0mresult\u001b[0m \u001b[1;33m=\u001b[0m \u001b[0mdata\u001b[0m\u001b[1;33m.\u001b[0m\u001b[0mexportTable\u001b[0m\u001b[1;33m(\u001b[0m\u001b[0mself\u001b[0m\u001b[1;33m.\u001b[0m\u001b[0m_request_id\u001b[0m\u001b[1;33m,\u001b[0m \u001b[0mself\u001b[0m\u001b[1;33m.\u001b[0m\u001b[0mconfig\u001b[0m\u001b[1;33m)\u001b[0m\u001b[1;33m\u001b[0m\u001b[1;33m\u001b[0m\u001b[0m\n\u001b[0m\u001b[0;32m     88\u001b[0m     \u001b[1;32melif\u001b[0m \u001b[0mself\u001b[0m\u001b[1;33m.\u001b[0m\u001b[0mtask_type\u001b[0m \u001b[1;33m==\u001b[0m \u001b[0mTask\u001b[0m\u001b[1;33m.\u001b[0m\u001b[0mType\u001b[0m\u001b[1;33m.\u001b[0m\u001b[0mEXPORT_VIDEO\u001b[0m\u001b[1;33m:\u001b[0m\u001b[1;33m\u001b[0m\u001b[1;33m\u001b[0m\u001b[0m\n\u001b[0;32m     89\u001b[0m       \u001b[0mresult\u001b[0m \u001b[1;33m=\u001b[0m \u001b[0mdata\u001b[0m\u001b[1;33m.\u001b[0m\u001b[0mexportVideo\u001b[0m\u001b[1;33m(\u001b[0m\u001b[0mself\u001b[0m\u001b[1;33m.\u001b[0m\u001b[0m_request_id\u001b[0m\u001b[1;33m,\u001b[0m \u001b[0mself\u001b[0m\u001b[1;33m.\u001b[0m\u001b[0mconfig\u001b[0m\u001b[1;33m)\u001b[0m\u001b[1;33m\u001b[0m\u001b[1;33m\u001b[0m\u001b[0m\n",
      "\u001b[1;32mC:\\ProgramData\\Anaconda3\\envs\\phd_01\\lib\\site-packages\\ee\\data.py\u001b[0m in \u001b[0;36mexportTable\u001b[1;34m(request_id, params)\u001b[0m\n\u001b[0;32m   1240\u001b[0m   \"\"\"\n\u001b[0;32m   1241\u001b[0m   \u001b[0mparams\u001b[0m \u001b[1;33m=\u001b[0m \u001b[0mparams\u001b[0m\u001b[1;33m.\u001b[0m\u001b[0mcopy\u001b[0m\u001b[1;33m(\u001b[0m\u001b[1;33m)\u001b[0m\u001b[1;33m\u001b[0m\u001b[1;33m\u001b[0m\u001b[0m\n\u001b[1;32m-> 1242\u001b[1;33m   return _prepare_and_run_export(\n\u001b[0m\u001b[0;32m   1243\u001b[0m       \u001b[0mrequest_id\u001b[0m\u001b[1;33m,\u001b[0m \u001b[0mparams\u001b[0m\u001b[1;33m,\u001b[0m\u001b[1;33m\u001b[0m\u001b[1;33m\u001b[0m\u001b[0m\n\u001b[0;32m   1244\u001b[0m       _get_cloud_api_resource().projects().table().export)\n",
      "\u001b[1;32mC:\\ProgramData\\Anaconda3\\envs\\phd_01\\lib\\site-packages\\ee\\data.py\u001b[0m in \u001b[0;36m_prepare_and_run_export\u001b[1;34m(request_id, params, export_endpoint)\u001b[0m\n\u001b[0;32m   1327\u001b[0m       \u001b[1;32mraise\u001b[0m \u001b[0mValueError\u001b[0m\u001b[1;33m(\u001b[0m\u001b[1;34m'\"requestId\" must be a string.'\u001b[0m\u001b[1;33m)\u001b[0m\u001b[1;33m\u001b[0m\u001b[1;33m\u001b[0m\u001b[0m\n\u001b[0;32m   1328\u001b[0m   \u001b[1;32mif\u001b[0m \u001b[0misinstance\u001b[0m\u001b[1;33m(\u001b[0m\u001b[0mparams\u001b[0m\u001b[1;33m[\u001b[0m\u001b[1;34m'expression'\u001b[0m\u001b[1;33m]\u001b[0m\u001b[1;33m,\u001b[0m \u001b[0mencodable\u001b[0m\u001b[1;33m.\u001b[0m\u001b[0mEncodable\u001b[0m\u001b[1;33m)\u001b[0m\u001b[1;33m:\u001b[0m\u001b[1;33m\u001b[0m\u001b[1;33m\u001b[0m\u001b[0m\n\u001b[1;32m-> 1329\u001b[1;33m     params['expression'] = serializer.encode(\n\u001b[0m\u001b[0;32m   1330\u001b[0m         params['expression'], for_cloud_api=True)\n\u001b[0;32m   1331\u001b[0m   \u001b[0mnum_retries\u001b[0m \u001b[1;33m=\u001b[0m \u001b[0mMAX_RETRIES\u001b[0m \u001b[1;32mif\u001b[0m \u001b[0mrequest_id\u001b[0m \u001b[1;32melse\u001b[0m \u001b[1;36m0\u001b[0m\u001b[1;33m\u001b[0m\u001b[1;33m\u001b[0m\u001b[0m\n",
      "\u001b[1;32mC:\\ProgramData\\Anaconda3\\envs\\phd_01\\lib\\site-packages\\ee\\serializer.py\u001b[0m in \u001b[0;36mencode\u001b[1;34m(obj, is_compound, for_cloud_api)\u001b[0m\n\u001b[0;32m    286\u001b[0m   \"\"\"\n\u001b[0;32m    287\u001b[0m   \u001b[0mserializer\u001b[0m \u001b[1;33m=\u001b[0m \u001b[0mSerializer\u001b[0m\u001b[1;33m(\u001b[0m\u001b[0mis_compound\u001b[0m\u001b[1;33m,\u001b[0m \u001b[0mfor_cloud_api\u001b[0m\u001b[1;33m=\u001b[0m\u001b[0mfor_cloud_api\u001b[0m\u001b[1;33m)\u001b[0m\u001b[1;33m\u001b[0m\u001b[1;33m\u001b[0m\u001b[0m\n\u001b[1;32m--> 288\u001b[1;33m   \u001b[1;32mreturn\u001b[0m \u001b[0mserializer\u001b[0m\u001b[1;33m.\u001b[0m\u001b[0m_encode\u001b[0m\u001b[1;33m(\u001b[0m\u001b[0mobj\u001b[0m\u001b[1;33m)\u001b[0m  \u001b[1;31m# pylint: disable=protected-access\u001b[0m\u001b[1;33m\u001b[0m\u001b[1;33m\u001b[0m\u001b[0m\n\u001b[0m\u001b[0;32m    289\u001b[0m \u001b[1;33m\u001b[0m\u001b[0m\n\u001b[0;32m    290\u001b[0m \u001b[1;33m\u001b[0m\u001b[0m\n",
      "\u001b[1;32mC:\\ProgramData\\Anaconda3\\envs\\phd_01\\lib\\site-packages\\ee\\serializer.py\u001b[0m in \u001b[0;36m_encode\u001b[1;34m(self, obj)\u001b[0m\n\u001b[0;32m     72\u001b[0m     \"\"\"\n\u001b[0;32m     73\u001b[0m     \u001b[1;32mif\u001b[0m \u001b[0mself\u001b[0m\u001b[1;33m.\u001b[0m\u001b[0m_for_cloud_api\u001b[0m\u001b[1;33m:\u001b[0m\u001b[1;33m\u001b[0m\u001b[1;33m\u001b[0m\u001b[0m\n\u001b[1;32m---> 74\u001b[1;33m       \u001b[1;32mreturn\u001b[0m \u001b[0mself\u001b[0m\u001b[1;33m.\u001b[0m\u001b[0m_encode_for_cloud_api\u001b[0m\u001b[1;33m(\u001b[0m\u001b[0mobj\u001b[0m\u001b[1;33m)\u001b[0m\u001b[1;33m\u001b[0m\u001b[1;33m\u001b[0m\u001b[0m\n\u001b[0m\u001b[0;32m     75\u001b[0m     \u001b[0mvalue\u001b[0m \u001b[1;33m=\u001b[0m \u001b[0mself\u001b[0m\u001b[1;33m.\u001b[0m\u001b[0m_encode_value\u001b[0m\u001b[1;33m(\u001b[0m\u001b[0mobj\u001b[0m\u001b[1;33m)\u001b[0m\u001b[1;33m\u001b[0m\u001b[1;33m\u001b[0m\u001b[0m\n\u001b[0;32m     76\u001b[0m     \u001b[1;32mif\u001b[0m \u001b[0mself\u001b[0m\u001b[1;33m.\u001b[0m\u001b[0m_is_compound\u001b[0m\u001b[1;33m:\u001b[0m\u001b[1;33m\u001b[0m\u001b[1;33m\u001b[0m\u001b[0m\n",
      "\u001b[1;32mC:\\ProgramData\\Anaconda3\\envs\\phd_01\\lib\\site-packages\\ee\\serializer.py\u001b[0m in \u001b[0;36m_encode_for_cloud_api\u001b[1;34m(self, obj)\u001b[0m\n\u001b[0;32m     93\u001b[0m     \u001b[1;32mif\u001b[0m \u001b[0mself\u001b[0m\u001b[1;33m.\u001b[0m\u001b[0m_is_compound\u001b[0m\u001b[1;33m:\u001b[0m\u001b[1;33m\u001b[0m\u001b[1;33m\u001b[0m\u001b[0m\n\u001b[0;32m     94\u001b[0m       \u001b[1;31m# Wrap the scopes and final value into an Expression.\u001b[0m\u001b[1;33m\u001b[0m\u001b[1;33m\u001b[0m\u001b[1;33m\u001b[0m\u001b[0m\n\u001b[1;32m---> 95\u001b[1;33m       \u001b[0mvalue\u001b[0m \u001b[1;33m=\u001b[0m \u001b[0m_ExpressionOptimizer\u001b[0m\u001b[1;33m(\u001b[0m\u001b[0mvalue\u001b[0m\u001b[1;33m,\u001b[0m \u001b[0mself\u001b[0m\u001b[1;33m.\u001b[0m\u001b[0m_scope\u001b[0m\u001b[1;33m)\u001b[0m\u001b[1;33m.\u001b[0m\u001b[0moptimize\u001b[0m\u001b[1;33m(\u001b[0m\u001b[1;33m)\u001b[0m\u001b[1;33m\u001b[0m\u001b[1;33m\u001b[0m\u001b[0m\n\u001b[0m\u001b[0;32m     96\u001b[0m       \u001b[1;31m# Clear state in case of future encoding.\u001b[0m\u001b[1;33m\u001b[0m\u001b[1;33m\u001b[0m\u001b[1;33m\u001b[0m\u001b[0m\n\u001b[0;32m     97\u001b[0m       \u001b[0mself\u001b[0m\u001b[1;33m.\u001b[0m\u001b[0m_scope\u001b[0m \u001b[1;33m=\u001b[0m \u001b[1;33m[\u001b[0m\u001b[1;33m]\u001b[0m\u001b[1;33m\u001b[0m\u001b[1;33m\u001b[0m\u001b[0m\n",
      "\u001b[1;32mC:\\ProgramData\\Anaconda3\\envs\\phd_01\\lib\\site-packages\\ee\\serializer.py\u001b[0m in \u001b[0;36m__init__\u001b[1;34m(self, result, values)\u001b[0m\n\u001b[0;32m    356\u001b[0m         values) if values is not None else None\n\u001b[0;32m    357\u001b[0m     \u001b[1;32mif\u001b[0m \u001b[0mself\u001b[0m\u001b[1;33m.\u001b[0m\u001b[0m_is_compound\u001b[0m\u001b[1;33m(\u001b[0m\u001b[1;33m)\u001b[0m\u001b[1;33m:\u001b[0m\u001b[1;33m\u001b[0m\u001b[1;33m\u001b[0m\u001b[0m\n\u001b[1;32m--> 358\u001b[1;33m       \u001b[0mself\u001b[0m\u001b[1;33m.\u001b[0m\u001b[0m_single_uses\u001b[0m \u001b[1;33m=\u001b[0m \u001b[0mself\u001b[0m\u001b[1;33m.\u001b[0m\u001b[0m_find_single_uses\u001b[0m\u001b[1;33m(\u001b[0m\u001b[1;33m)\u001b[0m\u001b[1;33m\u001b[0m\u001b[1;33m\u001b[0m\u001b[0m\n\u001b[0m\u001b[0;32m    359\u001b[0m       \u001b[0mself\u001b[0m\u001b[1;33m.\u001b[0m\u001b[0m_optimized_values\u001b[0m \u001b[1;33m=\u001b[0m \u001b[1;33m{\u001b[0m\u001b[1;33m}\u001b[0m\u001b[1;33m\u001b[0m\u001b[1;33m\u001b[0m\u001b[0m\n\u001b[0;32m    360\u001b[0m       \u001b[0mself\u001b[0m\u001b[1;33m.\u001b[0m\u001b[0m_reference_map\u001b[0m \u001b[1;33m=\u001b[0m \u001b[1;33m{\u001b[0m\u001b[1;33m}\u001b[0m\u001b[1;33m\u001b[0m\u001b[1;33m\u001b[0m\u001b[0m\n",
      "\u001b[1;32mC:\\ProgramData\\Anaconda3\\envs\\phd_01\\lib\\site-packages\\ee\\serializer.py\u001b[0m in \u001b[0;36m_find_single_uses\u001b[1;34m(self)\u001b[0m\n\u001b[0;32m    385\u001b[0m         \u001b[0mreference_counts\u001b[0m\u001b[1;33m[\u001b[0m\u001b[0mreference\u001b[0m\u001b[1;33m]\u001b[0m \u001b[1;33m+=\u001b[0m \u001b[1;36m1\u001b[0m\u001b[1;33m\u001b[0m\u001b[1;33m\u001b[0m\u001b[0m\n\u001b[0;32m    386\u001b[0m \u001b[1;33m\u001b[0m\u001b[0m\n\u001b[1;32m--> 387\u001b[1;33m     \u001b[0mself\u001b[0m\u001b[1;33m.\u001b[0m\u001b[0m_visit_all_values_in_expression\u001b[0m\u001b[1;33m(\u001b[0m\u001b[0mincrement_reference_count\u001b[0m\u001b[1;33m)\u001b[0m\u001b[1;33m\u001b[0m\u001b[1;33m\u001b[0m\u001b[0m\n\u001b[0m\u001b[0;32m    388\u001b[0m     return set(reference for reference, count in six.iteritems(reference_counts)\n\u001b[0;32m    389\u001b[0m                if count == 1)\n",
      "\u001b[1;32mC:\\ProgramData\\Anaconda3\\envs\\phd_01\\lib\\site-packages\\ee\\serializer.py\u001b[0m in \u001b[0;36m_visit_all_values_in_expression\u001b[1;34m(self, visitor)\u001b[0m\n\u001b[0;32m    534\u001b[0m         \u001b[0mexpression\u001b[0m\u001b[1;33m,\u001b[0m \u001b[0mincluding\u001b[0m \u001b[0mnested\u001b[0m \u001b[0mValueNodes\u001b[0m\u001b[1;33m.\u001b[0m\u001b[1;33m\u001b[0m\u001b[1;33m\u001b[0m\u001b[0m\n\u001b[0;32m    535\u001b[0m     \"\"\"\n\u001b[1;32m--> 536\u001b[1;33m     self._visit_all_values(self._result, self._values[self._result], set(),\n\u001b[0m\u001b[0;32m    537\u001b[0m                            visitor)\n\u001b[0;32m    538\u001b[0m \u001b[1;33m\u001b[0m\u001b[0m\n",
      "\u001b[1;32mC:\\ProgramData\\Anaconda3\\envs\\phd_01\\lib\\site-packages\\ee\\serializer.py\u001b[0m in \u001b[0;36m_visit_all_values\u001b[1;34m(self, reference, value, visited, visitor)\u001b[0m\n\u001b[0;32m    574\u001b[0m       \u001b[0marguments\u001b[0m \u001b[1;33m=\u001b[0m \u001b[0mfunction_invocation\u001b[0m\u001b[1;33m[\u001b[0m\u001b[1;34m'arguments'\u001b[0m\u001b[1;33m]\u001b[0m\u001b[1;33m\u001b[0m\u001b[1;33m\u001b[0m\u001b[0m\n\u001b[0;32m    575\u001b[0m       \u001b[1;32mfor\u001b[0m \u001b[0mk\u001b[0m \u001b[1;32min\u001b[0m \u001b[0msorted\u001b[0m\u001b[1;33m(\u001b[0m\u001b[0marguments\u001b[0m\u001b[1;33m)\u001b[0m\u001b[1;33m:\u001b[0m\u001b[1;33m\u001b[0m\u001b[1;33m\u001b[0m\u001b[0m\n\u001b[1;32m--> 576\u001b[1;33m         \u001b[0mself\u001b[0m\u001b[1;33m.\u001b[0m\u001b[0m_visit_all_values\u001b[0m\u001b[1;33m(\u001b[0m\u001b[1;32mNone\u001b[0m\u001b[1;33m,\u001b[0m \u001b[0marguments\u001b[0m\u001b[1;33m[\u001b[0m\u001b[0mk\u001b[0m\u001b[1;33m]\u001b[0m\u001b[1;33m,\u001b[0m \u001b[0mvisited\u001b[0m\u001b[1;33m,\u001b[0m \u001b[0mvisitor\u001b[0m\u001b[1;33m)\u001b[0m\u001b[1;33m\u001b[0m\u001b[1;33m\u001b[0m\u001b[0m\n\u001b[0m\u001b[0;32m    577\u001b[0m     \u001b[1;32melif\u001b[0m \u001b[1;34m'valueReference'\u001b[0m \u001b[1;32min\u001b[0m \u001b[0mvalue\u001b[0m\u001b[1;33m:\u001b[0m\u001b[1;33m\u001b[0m\u001b[1;33m\u001b[0m\u001b[0m\n\u001b[0;32m    578\u001b[0m       \u001b[0mvalue_reference\u001b[0m \u001b[1;33m=\u001b[0m \u001b[0mvalue\u001b[0m\u001b[1;33m[\u001b[0m\u001b[1;34m'valueReference'\u001b[0m\u001b[1;33m]\u001b[0m\u001b[1;33m\u001b[0m\u001b[1;33m\u001b[0m\u001b[0m\n",
      "\u001b[1;32mC:\\ProgramData\\Anaconda3\\envs\\phd_01\\lib\\site-packages\\ee\\serializer.py\u001b[0m in \u001b[0;36m_visit_all_values\u001b[1;34m(self, reference, value, visited, visitor)\u001b[0m\n\u001b[0;32m    577\u001b[0m     \u001b[1;32melif\u001b[0m \u001b[1;34m'valueReference'\u001b[0m \u001b[1;32min\u001b[0m \u001b[0mvalue\u001b[0m\u001b[1;33m:\u001b[0m\u001b[1;33m\u001b[0m\u001b[1;33m\u001b[0m\u001b[0m\n\u001b[0;32m    578\u001b[0m       \u001b[0mvalue_reference\u001b[0m \u001b[1;33m=\u001b[0m \u001b[0mvalue\u001b[0m\u001b[1;33m[\u001b[0m\u001b[1;34m'valueReference'\u001b[0m\u001b[1;33m]\u001b[0m\u001b[1;33m\u001b[0m\u001b[1;33m\u001b[0m\u001b[0m\n\u001b[1;32m--> 579\u001b[1;33m       self._visit_all_values(value_reference, self._values[value_reference],\n\u001b[0m\u001b[0;32m    580\u001b[0m                              visited, visitor)\n",
      "\u001b[1;32mC:\\ProgramData\\Anaconda3\\envs\\phd_01\\lib\\site-packages\\ee\\serializer.py\u001b[0m in \u001b[0;36m_visit_all_values\u001b[1;34m(self, reference, value, visited, visitor)\u001b[0m\n\u001b[0;32m    555\u001b[0m     \u001b[1;32mif\u001b[0m \u001b[1;34m'arrayValue'\u001b[0m \u001b[1;32min\u001b[0m \u001b[0mvalue\u001b[0m\u001b[1;33m:\u001b[0m\u001b[1;33m\u001b[0m\u001b[1;33m\u001b[0m\u001b[0m\n\u001b[0;32m    556\u001b[0m       \u001b[1;32mfor\u001b[0m \u001b[0mv\u001b[0m \u001b[1;32min\u001b[0m \u001b[0mvalue\u001b[0m\u001b[1;33m[\u001b[0m\u001b[1;34m'arrayValue'\u001b[0m\u001b[1;33m]\u001b[0m\u001b[1;33m[\u001b[0m\u001b[1;34m'values'\u001b[0m\u001b[1;33m]\u001b[0m\u001b[1;33m:\u001b[0m\u001b[1;33m\u001b[0m\u001b[1;33m\u001b[0m\u001b[0m\n\u001b[1;32m--> 557\u001b[1;33m         \u001b[0mself\u001b[0m\u001b[1;33m.\u001b[0m\u001b[0m_visit_all_values\u001b[0m\u001b[1;33m(\u001b[0m\u001b[1;32mNone\u001b[0m\u001b[1;33m,\u001b[0m \u001b[0mv\u001b[0m\u001b[1;33m,\u001b[0m \u001b[0mvisited\u001b[0m\u001b[1;33m,\u001b[0m \u001b[0mvisitor\u001b[0m\u001b[1;33m)\u001b[0m\u001b[1;33m\u001b[0m\u001b[1;33m\u001b[0m\u001b[0m\n\u001b[0m\u001b[0;32m    558\u001b[0m     \u001b[1;32melif\u001b[0m \u001b[1;34m'dictionaryValue'\u001b[0m \u001b[1;32min\u001b[0m \u001b[0mvalue\u001b[0m\u001b[1;33m:\u001b[0m\u001b[1;33m\u001b[0m\u001b[1;33m\u001b[0m\u001b[0m\n\u001b[0;32m    559\u001b[0m       \u001b[0md\u001b[0m \u001b[1;33m=\u001b[0m \u001b[0mvalue\u001b[0m\u001b[1;33m[\u001b[0m\u001b[1;34m'dictionaryValue'\u001b[0m\u001b[1;33m]\u001b[0m\u001b[1;33m[\u001b[0m\u001b[1;34m'values'\u001b[0m\u001b[1;33m]\u001b[0m\u001b[1;33m\u001b[0m\u001b[1;33m\u001b[0m\u001b[0m\n",
      "\u001b[1;32mC:\\ProgramData\\Anaconda3\\envs\\phd_01\\lib\\site-packages\\ee\\serializer.py\u001b[0m in \u001b[0;36m_visit_all_values\u001b[1;34m(self, reference, value, visited, visitor)\u001b[0m\n\u001b[0;32m    577\u001b[0m     \u001b[1;32melif\u001b[0m \u001b[1;34m'valueReference'\u001b[0m \u001b[1;32min\u001b[0m \u001b[0mvalue\u001b[0m\u001b[1;33m:\u001b[0m\u001b[1;33m\u001b[0m\u001b[1;33m\u001b[0m\u001b[0m\n\u001b[0;32m    578\u001b[0m       \u001b[0mvalue_reference\u001b[0m \u001b[1;33m=\u001b[0m \u001b[0mvalue\u001b[0m\u001b[1;33m[\u001b[0m\u001b[1;34m'valueReference'\u001b[0m\u001b[1;33m]\u001b[0m\u001b[1;33m\u001b[0m\u001b[1;33m\u001b[0m\u001b[0m\n\u001b[1;32m--> 579\u001b[1;33m       self._visit_all_values(value_reference, self._values[value_reference],\n\u001b[0m\u001b[0;32m    580\u001b[0m                              visited, visitor)\n",
      "\u001b[1;32mC:\\ProgramData\\Anaconda3\\envs\\phd_01\\lib\\site-packages\\ee\\serializer.py\u001b[0m in \u001b[0;36m_visit_all_values\u001b[1;34m(self, reference, value, visited, visitor)\u001b[0m\n\u001b[0;32m    574\u001b[0m       \u001b[0marguments\u001b[0m \u001b[1;33m=\u001b[0m \u001b[0mfunction_invocation\u001b[0m\u001b[1;33m[\u001b[0m\u001b[1;34m'arguments'\u001b[0m\u001b[1;33m]\u001b[0m\u001b[1;33m\u001b[0m\u001b[1;33m\u001b[0m\u001b[0m\n\u001b[0;32m    575\u001b[0m       \u001b[1;32mfor\u001b[0m \u001b[0mk\u001b[0m \u001b[1;32min\u001b[0m \u001b[0msorted\u001b[0m\u001b[1;33m(\u001b[0m\u001b[0marguments\u001b[0m\u001b[1;33m)\u001b[0m\u001b[1;33m:\u001b[0m\u001b[1;33m\u001b[0m\u001b[1;33m\u001b[0m\u001b[0m\n\u001b[1;32m--> 576\u001b[1;33m         \u001b[0mself\u001b[0m\u001b[1;33m.\u001b[0m\u001b[0m_visit_all_values\u001b[0m\u001b[1;33m(\u001b[0m\u001b[1;32mNone\u001b[0m\u001b[1;33m,\u001b[0m \u001b[0marguments\u001b[0m\u001b[1;33m[\u001b[0m\u001b[0mk\u001b[0m\u001b[1;33m]\u001b[0m\u001b[1;33m,\u001b[0m \u001b[0mvisited\u001b[0m\u001b[1;33m,\u001b[0m \u001b[0mvisitor\u001b[0m\u001b[1;33m)\u001b[0m\u001b[1;33m\u001b[0m\u001b[1;33m\u001b[0m\u001b[0m\n\u001b[0m\u001b[0;32m    577\u001b[0m     \u001b[1;32melif\u001b[0m \u001b[1;34m'valueReference'\u001b[0m \u001b[1;32min\u001b[0m \u001b[0mvalue\u001b[0m\u001b[1;33m:\u001b[0m\u001b[1;33m\u001b[0m\u001b[1;33m\u001b[0m\u001b[0m\n\u001b[0;32m    578\u001b[0m       \u001b[0mvalue_reference\u001b[0m \u001b[1;33m=\u001b[0m \u001b[0mvalue\u001b[0m\u001b[1;33m[\u001b[0m\u001b[1;34m'valueReference'\u001b[0m\u001b[1;33m]\u001b[0m\u001b[1;33m\u001b[0m\u001b[1;33m\u001b[0m\u001b[0m\n",
      "\u001b[1;32mC:\\ProgramData\\Anaconda3\\envs\\phd_01\\lib\\site-packages\\ee\\serializer.py\u001b[0m in \u001b[0;36m_visit_all_values\u001b[1;34m(self, reference, value, visited, visitor)\u001b[0m\n\u001b[0;32m    577\u001b[0m     \u001b[1;32melif\u001b[0m \u001b[1;34m'valueReference'\u001b[0m \u001b[1;32min\u001b[0m \u001b[0mvalue\u001b[0m\u001b[1;33m:\u001b[0m\u001b[1;33m\u001b[0m\u001b[1;33m\u001b[0m\u001b[0m\n\u001b[0;32m    578\u001b[0m       \u001b[0mvalue_reference\u001b[0m \u001b[1;33m=\u001b[0m \u001b[0mvalue\u001b[0m\u001b[1;33m[\u001b[0m\u001b[1;34m'valueReference'\u001b[0m\u001b[1;33m]\u001b[0m\u001b[1;33m\u001b[0m\u001b[1;33m\u001b[0m\u001b[0m\n\u001b[1;32m--> 579\u001b[1;33m       self._visit_all_values(value_reference, self._values[value_reference],\n\u001b[0m\u001b[0;32m    580\u001b[0m                              visited, visitor)\n",
      "\u001b[1;32mC:\\ProgramData\\Anaconda3\\envs\\phd_01\\lib\\site-packages\\ee\\serializer.py\u001b[0m in \u001b[0;36m_visit_all_values\u001b[1;34m(self, reference, value, visited, visitor)\u001b[0m\n\u001b[0;32m    574\u001b[0m       \u001b[0marguments\u001b[0m \u001b[1;33m=\u001b[0m \u001b[0mfunction_invocation\u001b[0m\u001b[1;33m[\u001b[0m\u001b[1;34m'arguments'\u001b[0m\u001b[1;33m]\u001b[0m\u001b[1;33m\u001b[0m\u001b[1;33m\u001b[0m\u001b[0m\n\u001b[0;32m    575\u001b[0m       \u001b[1;32mfor\u001b[0m \u001b[0mk\u001b[0m \u001b[1;32min\u001b[0m \u001b[0msorted\u001b[0m\u001b[1;33m(\u001b[0m\u001b[0marguments\u001b[0m\u001b[1;33m)\u001b[0m\u001b[1;33m:\u001b[0m\u001b[1;33m\u001b[0m\u001b[1;33m\u001b[0m\u001b[0m\n\u001b[1;32m--> 576\u001b[1;33m         \u001b[0mself\u001b[0m\u001b[1;33m.\u001b[0m\u001b[0m_visit_all_values\u001b[0m\u001b[1;33m(\u001b[0m\u001b[1;32mNone\u001b[0m\u001b[1;33m,\u001b[0m \u001b[0marguments\u001b[0m\u001b[1;33m[\u001b[0m\u001b[0mk\u001b[0m\u001b[1;33m]\u001b[0m\u001b[1;33m,\u001b[0m \u001b[0mvisited\u001b[0m\u001b[1;33m,\u001b[0m \u001b[0mvisitor\u001b[0m\u001b[1;33m)\u001b[0m\u001b[1;33m\u001b[0m\u001b[1;33m\u001b[0m\u001b[0m\n\u001b[0m\u001b[0;32m    577\u001b[0m     \u001b[1;32melif\u001b[0m \u001b[1;34m'valueReference'\u001b[0m \u001b[1;32min\u001b[0m \u001b[0mvalue\u001b[0m\u001b[1;33m:\u001b[0m\u001b[1;33m\u001b[0m\u001b[1;33m\u001b[0m\u001b[0m\n\u001b[0;32m    578\u001b[0m       \u001b[0mvalue_reference\u001b[0m \u001b[1;33m=\u001b[0m \u001b[0mvalue\u001b[0m\u001b[1;33m[\u001b[0m\u001b[1;34m'valueReference'\u001b[0m\u001b[1;33m]\u001b[0m\u001b[1;33m\u001b[0m\u001b[1;33m\u001b[0m\u001b[0m\n",
      "\u001b[1;32mC:\\ProgramData\\Anaconda3\\envs\\phd_01\\lib\\site-packages\\ee\\serializer.py\u001b[0m in \u001b[0;36m_visit_all_values\u001b[1;34m(self, reference, value, visited, visitor)\u001b[0m\n\u001b[0;32m    577\u001b[0m     \u001b[1;32melif\u001b[0m \u001b[1;34m'valueReference'\u001b[0m \u001b[1;32min\u001b[0m \u001b[0mvalue\u001b[0m\u001b[1;33m:\u001b[0m\u001b[1;33m\u001b[0m\u001b[1;33m\u001b[0m\u001b[0m\n\u001b[0;32m    578\u001b[0m       \u001b[0mvalue_reference\u001b[0m \u001b[1;33m=\u001b[0m \u001b[0mvalue\u001b[0m\u001b[1;33m[\u001b[0m\u001b[1;34m'valueReference'\u001b[0m\u001b[1;33m]\u001b[0m\u001b[1;33m\u001b[0m\u001b[1;33m\u001b[0m\u001b[0m\n\u001b[1;32m--> 579\u001b[1;33m       self._visit_all_values(value_reference, self._values[value_reference],\n\u001b[0m\u001b[0;32m    580\u001b[0m                              visited, visitor)\n",
      "\u001b[1;32mC:\\ProgramData\\Anaconda3\\envs\\phd_01\\lib\\site-packages\\ee\\serializer.py\u001b[0m in \u001b[0;36m_visit_all_values\u001b[1;34m(self, reference, value, visited, visitor)\u001b[0m\n\u001b[0;32m    577\u001b[0m     \u001b[1;32melif\u001b[0m \u001b[1;34m'valueReference'\u001b[0m \u001b[1;32min\u001b[0m \u001b[0mvalue\u001b[0m\u001b[1;33m:\u001b[0m\u001b[1;33m\u001b[0m\u001b[1;33m\u001b[0m\u001b[0m\n\u001b[0;32m    578\u001b[0m       \u001b[0mvalue_reference\u001b[0m \u001b[1;33m=\u001b[0m \u001b[0mvalue\u001b[0m\u001b[1;33m[\u001b[0m\u001b[1;34m'valueReference'\u001b[0m\u001b[1;33m]\u001b[0m\u001b[1;33m\u001b[0m\u001b[1;33m\u001b[0m\u001b[0m\n\u001b[1;32m--> 579\u001b[1;33m       self._visit_all_values(value_reference, self._values[value_reference],\n\u001b[0m\u001b[0;32m    580\u001b[0m                              visited, visitor)\n",
      "\u001b[1;32mC:\\ProgramData\\Anaconda3\\envs\\phd_01\\lib\\site-packages\\ee\\serializer.py\u001b[0m in \u001b[0;36m_visit_all_values\u001b[1;34m(self, reference, value, visited, visitor)\u001b[0m\n\u001b[0;32m    555\u001b[0m     \u001b[1;32mif\u001b[0m \u001b[1;34m'arrayValue'\u001b[0m \u001b[1;32min\u001b[0m \u001b[0mvalue\u001b[0m\u001b[1;33m:\u001b[0m\u001b[1;33m\u001b[0m\u001b[1;33m\u001b[0m\u001b[0m\n\u001b[0;32m    556\u001b[0m       \u001b[1;32mfor\u001b[0m \u001b[0mv\u001b[0m \u001b[1;32min\u001b[0m \u001b[0mvalue\u001b[0m\u001b[1;33m[\u001b[0m\u001b[1;34m'arrayValue'\u001b[0m\u001b[1;33m]\u001b[0m\u001b[1;33m[\u001b[0m\u001b[1;34m'values'\u001b[0m\u001b[1;33m]\u001b[0m\u001b[1;33m:\u001b[0m\u001b[1;33m\u001b[0m\u001b[1;33m\u001b[0m\u001b[0m\n\u001b[1;32m--> 557\u001b[1;33m         \u001b[0mself\u001b[0m\u001b[1;33m.\u001b[0m\u001b[0m_visit_all_values\u001b[0m\u001b[1;33m(\u001b[0m\u001b[1;32mNone\u001b[0m\u001b[1;33m,\u001b[0m \u001b[0mv\u001b[0m\u001b[1;33m,\u001b[0m \u001b[0mvisited\u001b[0m\u001b[1;33m,\u001b[0m \u001b[0mvisitor\u001b[0m\u001b[1;33m)\u001b[0m\u001b[1;33m\u001b[0m\u001b[1;33m\u001b[0m\u001b[0m\n\u001b[0m\u001b[0;32m    558\u001b[0m     \u001b[1;32melif\u001b[0m \u001b[1;34m'dictionaryValue'\u001b[0m \u001b[1;32min\u001b[0m \u001b[0mvalue\u001b[0m\u001b[1;33m:\u001b[0m\u001b[1;33m\u001b[0m\u001b[1;33m\u001b[0m\u001b[0m\n\u001b[0;32m    559\u001b[0m       \u001b[0md\u001b[0m \u001b[1;33m=\u001b[0m \u001b[0mvalue\u001b[0m\u001b[1;33m[\u001b[0m\u001b[1;34m'dictionaryValue'\u001b[0m\u001b[1;33m]\u001b[0m\u001b[1;33m[\u001b[0m\u001b[1;34m'values'\u001b[0m\u001b[1;33m]\u001b[0m\u001b[1;33m\u001b[0m\u001b[1;33m\u001b[0m\u001b[0m\n",
      "\u001b[1;32mC:\\ProgramData\\Anaconda3\\envs\\phd_01\\lib\\site-packages\\ee\\serializer.py\u001b[0m in \u001b[0;36m_visit_all_values\u001b[1;34m(self, reference, value, visited, visitor)\u001b[0m\n\u001b[0;32m    577\u001b[0m     \u001b[1;32melif\u001b[0m \u001b[1;34m'valueReference'\u001b[0m \u001b[1;32min\u001b[0m \u001b[0mvalue\u001b[0m\u001b[1;33m:\u001b[0m\u001b[1;33m\u001b[0m\u001b[1;33m\u001b[0m\u001b[0m\n\u001b[0;32m    578\u001b[0m       \u001b[0mvalue_reference\u001b[0m \u001b[1;33m=\u001b[0m \u001b[0mvalue\u001b[0m\u001b[1;33m[\u001b[0m\u001b[1;34m'valueReference'\u001b[0m\u001b[1;33m]\u001b[0m\u001b[1;33m\u001b[0m\u001b[1;33m\u001b[0m\u001b[0m\n\u001b[1;32m--> 579\u001b[1;33m       self._visit_all_values(value_reference, self._values[value_reference],\n\u001b[0m\u001b[0;32m    580\u001b[0m                              visited, visitor)\n",
      "\u001b[1;32mC:\\ProgramData\\Anaconda3\\envs\\phd_01\\lib\\site-packages\\ee\\serializer.py\u001b[0m in \u001b[0;36m_visit_all_values\u001b[1;34m(self, reference, value, visited, visitor)\u001b[0m\n\u001b[0;32m    555\u001b[0m     \u001b[1;32mif\u001b[0m \u001b[1;34m'arrayValue'\u001b[0m \u001b[1;32min\u001b[0m \u001b[0mvalue\u001b[0m\u001b[1;33m:\u001b[0m\u001b[1;33m\u001b[0m\u001b[1;33m\u001b[0m\u001b[0m\n\u001b[0;32m    556\u001b[0m       \u001b[1;32mfor\u001b[0m \u001b[0mv\u001b[0m \u001b[1;32min\u001b[0m \u001b[0mvalue\u001b[0m\u001b[1;33m[\u001b[0m\u001b[1;34m'arrayValue'\u001b[0m\u001b[1;33m]\u001b[0m\u001b[1;33m[\u001b[0m\u001b[1;34m'values'\u001b[0m\u001b[1;33m]\u001b[0m\u001b[1;33m:\u001b[0m\u001b[1;33m\u001b[0m\u001b[1;33m\u001b[0m\u001b[0m\n\u001b[1;32m--> 557\u001b[1;33m         \u001b[0mself\u001b[0m\u001b[1;33m.\u001b[0m\u001b[0m_visit_all_values\u001b[0m\u001b[1;33m(\u001b[0m\u001b[1;32mNone\u001b[0m\u001b[1;33m,\u001b[0m \u001b[0mv\u001b[0m\u001b[1;33m,\u001b[0m \u001b[0mvisited\u001b[0m\u001b[1;33m,\u001b[0m \u001b[0mvisitor\u001b[0m\u001b[1;33m)\u001b[0m\u001b[1;33m\u001b[0m\u001b[1;33m\u001b[0m\u001b[0m\n\u001b[0m\u001b[0;32m    558\u001b[0m     \u001b[1;32melif\u001b[0m \u001b[1;34m'dictionaryValue'\u001b[0m \u001b[1;32min\u001b[0m \u001b[0mvalue\u001b[0m\u001b[1;33m:\u001b[0m\u001b[1;33m\u001b[0m\u001b[1;33m\u001b[0m\u001b[0m\n\u001b[0;32m    559\u001b[0m       \u001b[0md\u001b[0m \u001b[1;33m=\u001b[0m \u001b[0mvalue\u001b[0m\u001b[1;33m[\u001b[0m\u001b[1;34m'dictionaryValue'\u001b[0m\u001b[1;33m]\u001b[0m\u001b[1;33m[\u001b[0m\u001b[1;34m'values'\u001b[0m\u001b[1;33m]\u001b[0m\u001b[1;33m\u001b[0m\u001b[1;33m\u001b[0m\u001b[0m\n",
      "\u001b[1;32mC:\\ProgramData\\Anaconda3\\envs\\phd_01\\lib\\site-packages\\ee\\serializer.py\u001b[0m in \u001b[0;36m_visit_all_values\u001b[1;34m(self, reference, value, visited, visitor)\u001b[0m\n\u001b[0;32m    551\u001b[0m         \u001b[1;32mreturn\u001b[0m\u001b[1;33m\u001b[0m\u001b[1;33m\u001b[0m\u001b[0m\n\u001b[0;32m    552\u001b[0m       \u001b[0mvisited\u001b[0m\u001b[1;33m.\u001b[0m\u001b[0madd\u001b[0m\u001b[1;33m(\u001b[0m\u001b[0mreference\u001b[0m\u001b[1;33m)\u001b[0m\u001b[1;33m\u001b[0m\u001b[1;33m\u001b[0m\u001b[0m\n\u001b[1;32m--> 553\u001b[1;33m     \u001b[0mvisitor\u001b[0m\u001b[1;33m(\u001b[0m\u001b[0mvalue\u001b[0m\u001b[1;33m)\u001b[0m\u001b[1;33m\u001b[0m\u001b[1;33m\u001b[0m\u001b[0m\n\u001b[0m\u001b[0;32m    554\u001b[0m \u001b[1;33m\u001b[0m\u001b[0m\n\u001b[0;32m    555\u001b[0m     \u001b[1;32mif\u001b[0m \u001b[1;34m'arrayValue'\u001b[0m \u001b[1;32min\u001b[0m \u001b[0mvalue\u001b[0m\u001b[1;33m:\u001b[0m\u001b[1;33m\u001b[0m\u001b[1;33m\u001b[0m\u001b[0m\n",
      "\u001b[1;32mC:\\ProgramData\\Anaconda3\\envs\\phd_01\\lib\\site-packages\\ee\\serializer.py\u001b[0m in \u001b[0;36mincrement_reference_count\u001b[1;34m(value)\u001b[0m\n\u001b[0;32m    383\u001b[0m       \u001b[0mreference\u001b[0m \u001b[1;33m=\u001b[0m \u001b[0m_contained_reference\u001b[0m\u001b[1;33m(\u001b[0m\u001b[0mvalue\u001b[0m\u001b[1;33m)\u001b[0m\u001b[1;33m\u001b[0m\u001b[1;33m\u001b[0m\u001b[0m\n\u001b[0;32m    384\u001b[0m       \u001b[1;32mif\u001b[0m \u001b[0mreference\u001b[0m \u001b[1;32mis\u001b[0m \u001b[1;32mnot\u001b[0m \u001b[1;32mNone\u001b[0m\u001b[1;33m:\u001b[0m\u001b[1;33m\u001b[0m\u001b[1;33m\u001b[0m\u001b[0m\n\u001b[1;32m--> 385\u001b[1;33m         \u001b[0mreference_counts\u001b[0m\u001b[1;33m[\u001b[0m\u001b[0mreference\u001b[0m\u001b[1;33m]\u001b[0m \u001b[1;33m+=\u001b[0m \u001b[1;36m1\u001b[0m\u001b[1;33m\u001b[0m\u001b[1;33m\u001b[0m\u001b[0m\n\u001b[0m\u001b[0;32m    386\u001b[0m \u001b[1;33m\u001b[0m\u001b[0m\n\u001b[0;32m    387\u001b[0m     \u001b[0mself\u001b[0m\u001b[1;33m.\u001b[0m\u001b[0m_visit_all_values_in_expression\u001b[0m\u001b[1;33m(\u001b[0m\u001b[0mincrement_reference_count\u001b[0m\u001b[1;33m)\u001b[0m\u001b[1;33m\u001b[0m\u001b[1;33m\u001b[0m\u001b[0m\n",
      "\u001b[1;31mMemoryError\u001b[0m: "
     ]
    }
   ],
   "source": [
    "# convert it into geo-json \n",
    "import ee\n",
    "import geemap\n",
    "import json\n",
    "import os\n",
    "json_df = json.loads(GEDI_SUMMER2019.drop(columns=\"Date\").to_json())\n",
    "    \n",
    "# create a gee object with geemap\n",
    "ee_object = geemap.geojson_to_ee(json_df)\n",
    "    \n",
    "# upload this object to earthengine\n",
    "asset = 'users/jasperfeyen/UGENT/Gedi_2B_Summer2019'\n",
    "            \n",
    "#create and launch the task\n",
    "task_config = {\n",
    "    'collection': ee_object, \n",
    "    'description':'Gedi_2B_Summer2019',\n",
    "    'assetId': asset\n",
    "}\n",
    "task = ee.batch.Export.table.toAsset(**task_config)\n",
    "task.start()"
   ]
  },
  {
   "cell_type": "code",
   "execution_count": 45,
   "metadata": {
    "collapsed": true,
    "jupyter": {
     "outputs_hidden": true
    },
    "tags": []
   },
   "outputs": [
    {
     "ename": "EEException",
     "evalue": "Invalid JSON payload received. Unknown name \"description\" at 'table_manifest': Cannot find field.\nInvalid JSON payload received. Unknown name \"assetId\" at 'table_manifest': Cannot find field.\nInvalid JSON payload received. Unknown name \"requestId\": Proto field is not repeating, cannot start list.",
     "output_type": "error",
     "traceback": [
      "\u001b[1;31m---------------------------------------------------------------------------\u001b[0m",
      "\u001b[1;31mHttpError\u001b[0m                                 Traceback (most recent call last)",
      "\u001b[1;32mC:\\ProgramData\\Anaconda3\\envs\\phd_01\\lib\\site-packages\\ee\\data.py\u001b[0m in \u001b[0;36m_execute_cloud_call\u001b[1;34m(call, num_retries)\u001b[0m\n\u001b[0;32m    333\u001b[0m   \u001b[1;32mtry\u001b[0m\u001b[1;33m:\u001b[0m\u001b[1;33m\u001b[0m\u001b[1;33m\u001b[0m\u001b[0m\n\u001b[1;32m--> 334\u001b[1;33m     \u001b[1;32mreturn\u001b[0m \u001b[0mcall\u001b[0m\u001b[1;33m.\u001b[0m\u001b[0mexecute\u001b[0m\u001b[1;33m(\u001b[0m\u001b[0mnum_retries\u001b[0m\u001b[1;33m=\u001b[0m\u001b[0mnum_retries\u001b[0m\u001b[1;33m)\u001b[0m\u001b[1;33m\u001b[0m\u001b[1;33m\u001b[0m\u001b[0m\n\u001b[0m\u001b[0;32m    335\u001b[0m   \u001b[1;32mexcept\u001b[0m \u001b[0mgoogleapiclient\u001b[0m\u001b[1;33m.\u001b[0m\u001b[0merrors\u001b[0m\u001b[1;33m.\u001b[0m\u001b[0mHttpError\u001b[0m \u001b[1;32mas\u001b[0m \u001b[0me\u001b[0m\u001b[1;33m:\u001b[0m\u001b[1;33m\u001b[0m\u001b[1;33m\u001b[0m\u001b[0m\n",
      "\u001b[1;32mC:\\ProgramData\\Anaconda3\\envs\\phd_01\\lib\\site-packages\\googleapiclient\\_helpers.py\u001b[0m in \u001b[0;36mpositional_wrapper\u001b[1;34m(*args, **kwargs)\u001b[0m\n\u001b[0;32m    133\u001b[0m                     \u001b[0mlogger\u001b[0m\u001b[1;33m.\u001b[0m\u001b[0mwarning\u001b[0m\u001b[1;33m(\u001b[0m\u001b[0mmessage\u001b[0m\u001b[1;33m)\u001b[0m\u001b[1;33m\u001b[0m\u001b[1;33m\u001b[0m\u001b[0m\n\u001b[1;32m--> 134\u001b[1;33m             \u001b[1;32mreturn\u001b[0m \u001b[0mwrapped\u001b[0m\u001b[1;33m(\u001b[0m\u001b[1;33m*\u001b[0m\u001b[0margs\u001b[0m\u001b[1;33m,\u001b[0m \u001b[1;33m**\u001b[0m\u001b[0mkwargs\u001b[0m\u001b[1;33m)\u001b[0m\u001b[1;33m\u001b[0m\u001b[1;33m\u001b[0m\u001b[0m\n\u001b[0m\u001b[0;32m    135\u001b[0m \u001b[1;33m\u001b[0m\u001b[0m\n",
      "\u001b[1;32mC:\\ProgramData\\Anaconda3\\envs\\phd_01\\lib\\site-packages\\googleapiclient\\http.py\u001b[0m in \u001b[0;36mexecute\u001b[1;34m(self, http, num_retries)\u001b[0m\n\u001b[0;32m    914\u001b[0m         \u001b[1;32mif\u001b[0m \u001b[0mresp\u001b[0m\u001b[1;33m.\u001b[0m\u001b[0mstatus\u001b[0m \u001b[1;33m>=\u001b[0m \u001b[1;36m300\u001b[0m\u001b[1;33m:\u001b[0m\u001b[1;33m\u001b[0m\u001b[1;33m\u001b[0m\u001b[0m\n\u001b[1;32m--> 915\u001b[1;33m             \u001b[1;32mraise\u001b[0m \u001b[0mHttpError\u001b[0m\u001b[1;33m(\u001b[0m\u001b[0mresp\u001b[0m\u001b[1;33m,\u001b[0m \u001b[0mcontent\u001b[0m\u001b[1;33m,\u001b[0m \u001b[0muri\u001b[0m\u001b[1;33m=\u001b[0m\u001b[0mself\u001b[0m\u001b[1;33m.\u001b[0m\u001b[0muri\u001b[0m\u001b[1;33m)\u001b[0m\u001b[1;33m\u001b[0m\u001b[1;33m\u001b[0m\u001b[0m\n\u001b[0m\u001b[0;32m    916\u001b[0m         \u001b[1;32mreturn\u001b[0m \u001b[0mself\u001b[0m\u001b[1;33m.\u001b[0m\u001b[0mpostproc\u001b[0m\u001b[1;33m(\u001b[0m\u001b[0mresp\u001b[0m\u001b[1;33m,\u001b[0m \u001b[0mcontent\u001b[0m\u001b[1;33m)\u001b[0m\u001b[1;33m\u001b[0m\u001b[1;33m\u001b[0m\u001b[0m\n",
      "\u001b[1;31mHttpError\u001b[0m: <HttpError 400 when requesting https://earthengine.googleapis.com/v1alpha/projects/earthengine-legacy/table:import?alt=json returned \"Invalid JSON payload received. Unknown name \"description\" at 'table_manifest': Cannot find field.\nInvalid JSON payload received. Unknown name \"assetId\" at 'table_manifest': Cannot find field.\nInvalid JSON payload received. Unknown name \"requestId\": Proto field is not repeating, cannot start list.\". Details: \"[{'@type': 'type.googleapis.com/google.rpc.BadRequest', 'fieldViolations': [{'field': 'table_manifest', 'description': 'Invalid JSON payload received. Unknown name \"description\" at \\'table_manifest\\': Cannot find field.'}, {'field': 'table_manifest', 'description': 'Invalid JSON payload received. Unknown name \"assetId\" at \\'table_manifest\\': Cannot find field.'}, {'description': 'Invalid JSON payload received. Unknown name \"requestId\": Proto field is not repeating, cannot start list.'}]}]\">",
      "\nDuring handling of the above exception, another exception occurred:\n",
      "\u001b[1;31mEEException\u001b[0m                               Traceback (most recent call last)",
      "\u001b[1;32m<ipython-input-45-82aa07a5930b>\u001b[0m in \u001b[0;36m<module>\u001b[1;34m\u001b[0m\n\u001b[0;32m      5\u001b[0m     \u001b[1;34m'assetId'\u001b[0m\u001b[1;33m:\u001b[0m \u001b[0mtaskID\u001b[0m\u001b[1;33m\u001b[0m\u001b[1;33m\u001b[0m\u001b[0m\n\u001b[0;32m      6\u001b[0m }\n\u001b[1;32m----> 7\u001b[1;33m \u001b[0mee\u001b[0m\u001b[1;33m.\u001b[0m\u001b[0mdata\u001b[0m\u001b[1;33m.\u001b[0m\u001b[0mstartTableIngestion\u001b[0m\u001b[1;33m(\u001b[0m\u001b[0mtaskID\u001b[0m\u001b[1;33m,\u001b[0m \u001b[0mparams\u001b[0m\u001b[1;33m,\u001b[0m \u001b[0mallow_overwrite\u001b[0m\u001b[1;33m=\u001b[0m\u001b[1;32mFalse\u001b[0m\u001b[1;33m)\u001b[0m\u001b[1;33m\u001b[0m\u001b[1;33m\u001b[0m\u001b[0m\n\u001b[0m",
      "\u001b[1;32mC:\\ProgramData\\Anaconda3\\envs\\phd_01\\lib\\site-packages\\ee\\data.py\u001b[0m in \u001b[0;36mstartTableIngestion\u001b[1;34m(request_id, params, allow_overwrite)\u001b[0m\n\u001b[0;32m   1425\u001b[0m           project=_get_projects_path(), body=request),\n\u001b[0;32m   1426\u001b[0m       num_retries=num_retries)\n\u001b[1;32m-> 1427\u001b[1;33m   return {\n\u001b[0m\u001b[0;32m   1428\u001b[0m       \u001b[1;34m'id'\u001b[0m\u001b[1;33m:\u001b[0m\u001b[1;33m\u001b[0m\u001b[1;33m\u001b[0m\u001b[0m\n\u001b[0;32m   1429\u001b[0m           _cloud_api_utils.convert_operation_name_to_task_id(\n",
      "\u001b[1;32mC:\\ProgramData\\Anaconda3\\envs\\phd_01\\lib\\site-packages\\ee\\data.py\u001b[0m in \u001b[0;36m_execute_cloud_call\u001b[1;34m(call, num_retries)\u001b[0m\n\u001b[0;32m    334\u001b[0m     \u001b[1;32mreturn\u001b[0m \u001b[0mcall\u001b[0m\u001b[1;33m.\u001b[0m\u001b[0mexecute\u001b[0m\u001b[1;33m(\u001b[0m\u001b[0mnum_retries\u001b[0m\u001b[1;33m=\u001b[0m\u001b[0mnum_retries\u001b[0m\u001b[1;33m)\u001b[0m\u001b[1;33m\u001b[0m\u001b[1;33m\u001b[0m\u001b[0m\n\u001b[0;32m    335\u001b[0m   \u001b[1;32mexcept\u001b[0m \u001b[0mgoogleapiclient\u001b[0m\u001b[1;33m.\u001b[0m\u001b[0merrors\u001b[0m\u001b[1;33m.\u001b[0m\u001b[0mHttpError\u001b[0m \u001b[1;32mas\u001b[0m \u001b[0me\u001b[0m\u001b[1;33m:\u001b[0m\u001b[1;33m\u001b[0m\u001b[1;33m\u001b[0m\u001b[0m\n\u001b[1;32m--> 336\u001b[1;33m     \u001b[1;32mraise\u001b[0m \u001b[0m_translate_cloud_exception\u001b[0m\u001b[1;33m(\u001b[0m\u001b[0me\u001b[0m\u001b[1;33m)\u001b[0m\u001b[1;33m\u001b[0m\u001b[1;33m\u001b[0m\u001b[0m\n\u001b[0m\u001b[0;32m    337\u001b[0m \u001b[1;33m\u001b[0m\u001b[0m\n\u001b[0;32m    338\u001b[0m \u001b[1;33m\u001b[0m\u001b[0m\n",
      "\u001b[1;31mEEException\u001b[0m: Invalid JSON payload received. Unknown name \"description\" at 'table_manifest': Cannot find field.\nInvalid JSON payload received. Unknown name \"assetId\" at 'table_manifest': Cannot find field.\nInvalid JSON payload received. Unknown name \"requestId\": Proto field is not repeating, cannot start list."
     ]
    }
   ],
   "source": [
    "taskID = ee.data.newTaskId()\n",
    "params = {\n",
    "    'id': 'users/jasperfeyen/UGENT/GEDI_SUMMER2019', \n",
    "    'description':'Gedi_2B_Summer2019',\n",
    "    'assetId': taskID\n",
    "}\n",
    "ee.data.startTableIngestion(taskID, params, allow_overwrite=False)"
   ]
  }
 ],
 "metadata": {
  "kernelspec": {
   "display_name": "Python 3",
   "language": "python",
   "name": "python3"
  },
  "language_info": {
   "codemirror_mode": {
    "name": "ipython",
    "version": 3
   },
   "file_extension": ".py",
   "mimetype": "text/x-python",
   "name": "python",
   "nbconvert_exporter": "python",
   "pygments_lexer": "ipython3",
   "version": "3.9.2"
  }
 },
 "nbformat": 4,
 "nbformat_minor": 4
}
